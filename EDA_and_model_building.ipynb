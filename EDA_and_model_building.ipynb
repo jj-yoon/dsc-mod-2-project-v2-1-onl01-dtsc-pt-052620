{
 "cells": [
  {
   "cell_type": "code",
   "execution_count": 1,
   "metadata": {
    "ExecuteTime": {
     "end_time": "2020-09-17T22:09:58.251753Z",
     "start_time": "2020-09-17T22:09:51.683005Z"
    }
   },
   "outputs": [],
   "source": [
    "import pandas as pd\n",
    "import matplotlib.pyplot as plt\n",
    "import seaborn as sns\n",
    "import numpy as np\n",
    "%matplotlib inline\n",
    "\n",
    "from statsmodels.formula.api import ols\n",
    "import statsmodels.api as sm\n",
    "from sklearn.feature_selection import RFE\n",
    "from sklearn.linear_model import LinearRegression\n",
    "from statsmodels.stats.outliers_influence import variance_inflation_factor\n",
    "from sklearn.preprocessing import LabelBinarizer"
   ]
  },
  {
   "cell_type": "code",
   "execution_count": 2,
   "metadata": {
    "ExecuteTime": {
     "end_time": "2020-09-17T22:09:58.784283Z",
     "start_time": "2020-09-17T22:09:58.255349Z"
    }
   },
   "outputs": [],
   "source": [
    "df = pd.read_csv('DataTable.csv')\n",
    "df_question1=df"
   ]
  },
  {
   "cell_type": "code",
   "execution_count": 3,
   "metadata": {
    "ExecuteTime": {
     "end_time": "2020-09-17T22:09:58.805238Z",
     "start_time": "2020-09-17T22:09:58.790800Z"
    },
    "scrolled": true
   },
   "outputs": [
    {
     "data": {
      "text/plain": [
       "Index(['id', 'date', 'price', 'bedrooms', 'bathrooms', 'sqft_living',\n",
       "       'sqft_lot', 'floors', 'waterfront', 'view', 'condition', 'grade',\n",
       "       'sqft_above', 'sqft_basement', 'yr_built', 'yr_renovated', 'zipcode',\n",
       "       'lat', 'long', 'sqft_living15', 'sqft_lot15', 'distance_to_airport',\n",
       "       'distance_to_seahawks_stadium', 'distance_to_seattle_center',\n",
       "       'distance_to_kerry_park', 'distance_to_discovery_park',\n",
       "       'minimum_distance_to_metro', 'population', 'land', 'population_density',\n",
       "       'units', 'units_occupied', 'med_value', 'med_income', 'calc_pd',\n",
       "       'walk_score'],\n",
       "      dtype='object')"
      ]
     },
     "execution_count": 3,
     "metadata": {},
     "output_type": "execute_result"
    }
   ],
   "source": [
    "df.columns"
   ]
  },
  {
   "cell_type": "code",
   "execution_count": 4,
   "metadata": {
    "ExecuteTime": {
     "end_time": "2020-09-17T22:09:58.947569Z",
     "start_time": "2020-09-17T22:09:58.813454Z"
    }
   },
   "outputs": [
    {
     "data": {
      "text/html": [
       "<div>\n",
       "<style scoped>\n",
       "    .dataframe tbody tr th:only-of-type {\n",
       "        vertical-align: middle;\n",
       "    }\n",
       "\n",
       "    .dataframe tbody tr th {\n",
       "        vertical-align: top;\n",
       "    }\n",
       "\n",
       "    .dataframe thead th {\n",
       "        text-align: right;\n",
       "    }\n",
       "</style>\n",
       "<table border=\"1\" class=\"dataframe\">\n",
       "  <thead>\n",
       "    <tr style=\"text-align: right;\">\n",
       "      <th></th>\n",
       "      <th>price</th>\n",
       "      <th>bedrooms</th>\n",
       "      <th>bathrooms</th>\n",
       "      <th>sqft_living</th>\n",
       "      <th>sqft_lot</th>\n",
       "      <th>floors</th>\n",
       "      <th>waterfront</th>\n",
       "      <th>view</th>\n",
       "      <th>condition</th>\n",
       "      <th>grade</th>\n",
       "      <th>...</th>\n",
       "      <th>sqft_lot15</th>\n",
       "      <th>distance_to_airport</th>\n",
       "      <th>distance_to_seahawks_stadium</th>\n",
       "      <th>distance_to_seattle_center</th>\n",
       "      <th>distance_to_kerry_park</th>\n",
       "      <th>distance_to_discovery_park</th>\n",
       "      <th>minimum_distance_to_metro</th>\n",
       "      <th>med_income</th>\n",
       "      <th>calc_pd</th>\n",
       "      <th>walk_score</th>\n",
       "    </tr>\n",
       "  </thead>\n",
       "  <tbody>\n",
       "    <tr>\n",
       "      <td>0</td>\n",
       "      <td>221900.0</td>\n",
       "      <td>3</td>\n",
       "      <td>1.00</td>\n",
       "      <td>1180</td>\n",
       "      <td>5650</td>\n",
       "      <td>1.0</td>\n",
       "      <td>0.0</td>\n",
       "      <td>0.0</td>\n",
       "      <td>3</td>\n",
       "      <td>7</td>\n",
       "      <td>...</td>\n",
       "      <td>5650</td>\n",
       "      <td>4.862539</td>\n",
       "      <td>6.771217</td>\n",
       "      <td>8.837087</td>\n",
       "      <td>9.483657</td>\n",
       "      <td>12.249694</td>\n",
       "      <td>1.302968</td>\n",
       "      <td>58707.0</td>\n",
       "      <td>4967.42268</td>\n",
       "      <td>39</td>\n",
       "    </tr>\n",
       "    <tr>\n",
       "      <td>1</td>\n",
       "      <td>205425.0</td>\n",
       "      <td>2</td>\n",
       "      <td>1.00</td>\n",
       "      <td>880</td>\n",
       "      <td>6780</td>\n",
       "      <td>1.0</td>\n",
       "      <td>0.0</td>\n",
       "      <td>0.0</td>\n",
       "      <td>4</td>\n",
       "      <td>6</td>\n",
       "      <td>...</td>\n",
       "      <td>6780</td>\n",
       "      <td>4.514162</td>\n",
       "      <td>7.598140</td>\n",
       "      <td>9.663983</td>\n",
       "      <td>10.310590</td>\n",
       "      <td>13.074902</td>\n",
       "      <td>2.089548</td>\n",
       "      <td>58707.0</td>\n",
       "      <td>4967.42268</td>\n",
       "      <td>62</td>\n",
       "    </tr>\n",
       "    <tr>\n",
       "      <td>2</td>\n",
       "      <td>445000.0</td>\n",
       "      <td>3</td>\n",
       "      <td>2.25</td>\n",
       "      <td>2100</td>\n",
       "      <td>8201</td>\n",
       "      <td>1.0</td>\n",
       "      <td>0.0</td>\n",
       "      <td>2.0</td>\n",
       "      <td>3</td>\n",
       "      <td>8</td>\n",
       "      <td>...</td>\n",
       "      <td>8712</td>\n",
       "      <td>5.076186</td>\n",
       "      <td>7.222682</td>\n",
       "      <td>9.278340</td>\n",
       "      <td>9.927283</td>\n",
       "      <td>12.720516</td>\n",
       "      <td>1.894527</td>\n",
       "      <td>58707.0</td>\n",
       "      <td>4967.42268</td>\n",
       "      <td>23</td>\n",
       "    </tr>\n",
       "    <tr>\n",
       "      <td>3</td>\n",
       "      <td>236000.0</td>\n",
       "      <td>3</td>\n",
       "      <td>1.00</td>\n",
       "      <td>1300</td>\n",
       "      <td>5898</td>\n",
       "      <td>1.0</td>\n",
       "      <td>0.0</td>\n",
       "      <td>0.0</td>\n",
       "      <td>3</td>\n",
       "      <td>7</td>\n",
       "      <td>...</td>\n",
       "      <td>7619</td>\n",
       "      <td>4.564977</td>\n",
       "      <td>7.170015</td>\n",
       "      <td>9.237631</td>\n",
       "      <td>9.883293</td>\n",
       "      <td>12.639671</td>\n",
       "      <td>1.643102</td>\n",
       "      <td>58707.0</td>\n",
       "      <td>4967.42268</td>\n",
       "      <td>29</td>\n",
       "    </tr>\n",
       "    <tr>\n",
       "      <td>4</td>\n",
       "      <td>170000.0</td>\n",
       "      <td>2</td>\n",
       "      <td>1.00</td>\n",
       "      <td>860</td>\n",
       "      <td>5265</td>\n",
       "      <td>1.0</td>\n",
       "      <td>0.0</td>\n",
       "      <td>0.0</td>\n",
       "      <td>3</td>\n",
       "      <td>6</td>\n",
       "      <td>...</td>\n",
       "      <td>8775</td>\n",
       "      <td>4.147126</td>\n",
       "      <td>6.839175</td>\n",
       "      <td>8.907012</td>\n",
       "      <td>9.545065</td>\n",
       "      <td>12.244964</td>\n",
       "      <td>1.264256</td>\n",
       "      <td>58707.0</td>\n",
       "      <td>4967.42268</td>\n",
       "      <td>80</td>\n",
       "    </tr>\n",
       "  </tbody>\n",
       "</table>\n",
       "<p>5 rows × 27 columns</p>\n",
       "</div>"
      ],
      "text/plain": [
       "      price  bedrooms  bathrooms  sqft_living  sqft_lot  floors  waterfront  \\\n",
       "0  221900.0         3       1.00         1180      5650     1.0         0.0   \n",
       "1  205425.0         2       1.00          880      6780     1.0         0.0   \n",
       "2  445000.0         3       2.25         2100      8201     1.0         0.0   \n",
       "3  236000.0         3       1.00         1300      5898     1.0         0.0   \n",
       "4  170000.0         2       1.00          860      5265     1.0         0.0   \n",
       "\n",
       "   view  condition  grade  ...  sqft_lot15  distance_to_airport  \\\n",
       "0   0.0          3      7  ...        5650             4.862539   \n",
       "1   0.0          4      6  ...        6780             4.514162   \n",
       "2   2.0          3      8  ...        8712             5.076186   \n",
       "3   0.0          3      7  ...        7619             4.564977   \n",
       "4   0.0          3      6  ...        8775             4.147126   \n",
       "\n",
       "   distance_to_seahawks_stadium  distance_to_seattle_center  \\\n",
       "0                      6.771217                    8.837087   \n",
       "1                      7.598140                    9.663983   \n",
       "2                      7.222682                    9.278340   \n",
       "3                      7.170015                    9.237631   \n",
       "4                      6.839175                    8.907012   \n",
       "\n",
       "   distance_to_kerry_park  distance_to_discovery_park  \\\n",
       "0                9.483657                   12.249694   \n",
       "1               10.310590                   13.074902   \n",
       "2                9.927283                   12.720516   \n",
       "3                9.883293                   12.639671   \n",
       "4                9.545065                   12.244964   \n",
       "\n",
       "   minimum_distance_to_metro  med_income     calc_pd  walk_score  \n",
       "0                   1.302968     58707.0  4967.42268          39  \n",
       "1                   2.089548     58707.0  4967.42268          62  \n",
       "2                   1.894527     58707.0  4967.42268          23  \n",
       "3                   1.643102     58707.0  4967.42268          29  \n",
       "4                   1.264256     58707.0  4967.42268          80  \n",
       "\n",
       "[5 rows x 27 columns]"
      ]
     },
     "execution_count": 4,
     "metadata": {},
     "output_type": "execute_result"
    }
   ],
   "source": [
    "#drop columns that won't be useful or are repeated\n",
    "df.drop(columns=['id', 'date', 'zipcode', 'units', 'population', \n",
    "                 'units_occupied', 'med_value', 'population_density', 'land'], inplace=True)\n",
    "\n",
    "df.head()"
   ]
  },
  {
   "cell_type": "code",
   "execution_count": 5,
   "metadata": {
    "ExecuteTime": {
     "end_time": "2020-09-17T22:09:59.587715Z",
     "start_time": "2020-09-17T22:09:58.962486Z"
    }
   },
   "outputs": [
    {
     "data": {
      "text/html": [
       "<div>\n",
       "<style scoped>\n",
       "    .dataframe tbody tr th:only-of-type {\n",
       "        vertical-align: middle;\n",
       "    }\n",
       "\n",
       "    .dataframe tbody tr th {\n",
       "        vertical-align: top;\n",
       "    }\n",
       "\n",
       "    .dataframe thead th {\n",
       "        text-align: right;\n",
       "    }\n",
       "</style>\n",
       "<table border=\"1\" class=\"dataframe\">\n",
       "  <thead>\n",
       "    <tr style=\"text-align: right;\">\n",
       "      <th></th>\n",
       "      <th>price</th>\n",
       "      <th>bedrooms</th>\n",
       "      <th>bathrooms</th>\n",
       "      <th>sqft_living</th>\n",
       "      <th>sqft_lot</th>\n",
       "      <th>floors</th>\n",
       "      <th>waterfront</th>\n",
       "      <th>view</th>\n",
       "      <th>condition</th>\n",
       "      <th>grade</th>\n",
       "      <th>...</th>\n",
       "      <th>sqft_lot15</th>\n",
       "      <th>distance_to_airport</th>\n",
       "      <th>distance_to_seahawks_stadium</th>\n",
       "      <th>distance_to_seattle_center</th>\n",
       "      <th>distance_to_kerry_park</th>\n",
       "      <th>distance_to_discovery_park</th>\n",
       "      <th>minimum_distance_to_metro</th>\n",
       "      <th>med_income</th>\n",
       "      <th>calc_pd</th>\n",
       "      <th>walk_score</th>\n",
       "    </tr>\n",
       "  </thead>\n",
       "  <tbody>\n",
       "    <tr>\n",
       "      <td>count</td>\n",
       "      <td>2.142000e+04</td>\n",
       "      <td>21420.000000</td>\n",
       "      <td>21420.000000</td>\n",
       "      <td>21420.000000</td>\n",
       "      <td>2.142000e+04</td>\n",
       "      <td>21420.000000</td>\n",
       "      <td>21420.000000</td>\n",
       "      <td>21420.000000</td>\n",
       "      <td>21420.000000</td>\n",
       "      <td>21420.000000</td>\n",
       "      <td>...</td>\n",
       "      <td>21420.000000</td>\n",
       "      <td>21420.000000</td>\n",
       "      <td>21420.000000</td>\n",
       "      <td>21420.000000</td>\n",
       "      <td>21420.000000</td>\n",
       "      <td>21420.000000</td>\n",
       "      <td>21420.000000</td>\n",
       "      <td>21420.000000</td>\n",
       "      <td>21420.000000</td>\n",
       "      <td>21420.000000</td>\n",
       "    </tr>\n",
       "    <tr>\n",
       "      <td>mean</td>\n",
       "      <td>5.407393e+05</td>\n",
       "      <td>3.373950</td>\n",
       "      <td>2.118429</td>\n",
       "      <td>2083.132633</td>\n",
       "      <td>1.512804e+04</td>\n",
       "      <td>1.495985</td>\n",
       "      <td>0.006816</td>\n",
       "      <td>0.233987</td>\n",
       "      <td>3.410784</td>\n",
       "      <td>7.662792</td>\n",
       "      <td>...</td>\n",
       "      <td>12775.718161</td>\n",
       "      <td>13.330562</td>\n",
       "      <td>11.408495</td>\n",
       "      <td>12.013397</td>\n",
       "      <td>12.284533</td>\n",
       "      <td>13.983176</td>\n",
       "      <td>6.970616</td>\n",
       "      <td>81151.809944</td>\n",
       "      <td>4294.850826</td>\n",
       "      <td>40.003361</td>\n",
       "    </tr>\n",
       "    <tr>\n",
       "      <td>std</td>\n",
       "      <td>3.679311e+05</td>\n",
       "      <td>0.925405</td>\n",
       "      <td>0.768720</td>\n",
       "      <td>918.808412</td>\n",
       "      <td>4.153080e+04</td>\n",
       "      <td>0.540081</td>\n",
       "      <td>0.082280</td>\n",
       "      <td>0.765437</td>\n",
       "      <td>0.650035</td>\n",
       "      <td>1.171971</td>\n",
       "      <td>...</td>\n",
       "      <td>27345.621867</td>\n",
       "      <td>5.912335</td>\n",
       "      <td>6.406267</td>\n",
       "      <td>7.098593</td>\n",
       "      <td>7.323247</td>\n",
       "      <td>8.042231</td>\n",
       "      <td>4.979949</td>\n",
       "      <td>24184.833310</td>\n",
       "      <td>2959.739674</td>\n",
       "      <td>28.561745</td>\n",
       "    </tr>\n",
       "    <tr>\n",
       "      <td>min</td>\n",
       "      <td>7.800000e+04</td>\n",
       "      <td>1.000000</td>\n",
       "      <td>0.500000</td>\n",
       "      <td>370.000000</td>\n",
       "      <td>5.200000e+02</td>\n",
       "      <td>1.000000</td>\n",
       "      <td>0.000000</td>\n",
       "      <td>0.000000</td>\n",
       "      <td>1.000000</td>\n",
       "      <td>3.000000</td>\n",
       "      <td>...</td>\n",
       "      <td>651.000000</td>\n",
       "      <td>0.794968</td>\n",
       "      <td>0.781762</td>\n",
       "      <td>0.328556</td>\n",
       "      <td>0.086093</td>\n",
       "      <td>0.156062</td>\n",
       "      <td>0.039381</td>\n",
       "      <td>40815.000000</td>\n",
       "      <td>41.211905</td>\n",
       "      <td>0.000000</td>\n",
       "    </tr>\n",
       "    <tr>\n",
       "      <td>25%</td>\n",
       "      <td>3.225000e+05</td>\n",
       "      <td>3.000000</td>\n",
       "      <td>1.750000</td>\n",
       "      <td>1430.000000</td>\n",
       "      <td>5.040000e+03</td>\n",
       "      <td>1.000000</td>\n",
       "      <td>0.000000</td>\n",
       "      <td>0.000000</td>\n",
       "      <td>3.000000</td>\n",
       "      <td>7.000000</td>\n",
       "      <td>...</td>\n",
       "      <td>5100.000000</td>\n",
       "      <td>8.405874</td>\n",
       "      <td>6.308190</td>\n",
       "      <td>6.177725</td>\n",
       "      <td>6.415543</td>\n",
       "      <td>7.475380</td>\n",
       "      <td>3.335343</td>\n",
       "      <td>63709.000000</td>\n",
       "      <td>2185.126582</td>\n",
       "      <td>14.000000</td>\n",
       "    </tr>\n",
       "    <tr>\n",
       "      <td>50%</td>\n",
       "      <td>4.500000e+05</td>\n",
       "      <td>3.000000</td>\n",
       "      <td>2.250000</td>\n",
       "      <td>1920.000000</td>\n",
       "      <td>7.614000e+03</td>\n",
       "      <td>1.500000</td>\n",
       "      <td>0.000000</td>\n",
       "      <td>0.000000</td>\n",
       "      <td>3.000000</td>\n",
       "      <td>7.000000</td>\n",
       "      <td>...</td>\n",
       "      <td>7620.000000</td>\n",
       "      <td>13.487255</td>\n",
       "      <td>10.390095</td>\n",
       "      <td>10.670040</td>\n",
       "      <td>10.919394</td>\n",
       "      <td>13.131834</td>\n",
       "      <td>5.974098</td>\n",
       "      <td>77688.000000</td>\n",
       "      <td>3975.248933</td>\n",
       "      <td>36.000000</td>\n",
       "    </tr>\n",
       "    <tr>\n",
       "      <td>75%</td>\n",
       "      <td>6.450000e+05</td>\n",
       "      <td>4.000000</td>\n",
       "      <td>2.500000</td>\n",
       "      <td>2550.000000</td>\n",
       "      <td>1.069050e+04</td>\n",
       "      <td>2.000000</td>\n",
       "      <td>0.000000</td>\n",
       "      <td>0.000000</td>\n",
       "      <td>4.000000</td>\n",
       "      <td>8.000000</td>\n",
       "      <td>...</td>\n",
       "      <td>10086.250000</td>\n",
       "      <td>17.535100</td>\n",
       "      <td>15.453381</td>\n",
       "      <td>16.681599</td>\n",
       "      <td>17.154461</td>\n",
       "      <td>19.658747</td>\n",
       "      <td>9.415636</td>\n",
       "      <td>95043.000000</td>\n",
       "      <td>6311.948867</td>\n",
       "      <td>65.000000</td>\n",
       "    </tr>\n",
       "    <tr>\n",
       "      <td>max</td>\n",
       "      <td>7.700000e+06</td>\n",
       "      <td>33.000000</td>\n",
       "      <td>8.000000</td>\n",
       "      <td>13540.000000</td>\n",
       "      <td>1.651359e+06</td>\n",
       "      <td>3.500000</td>\n",
       "      <td>1.000000</td>\n",
       "      <td>4.000000</td>\n",
       "      <td>5.000000</td>\n",
       "      <td>13.000000</td>\n",
       "      <td>...</td>\n",
       "      <td>871200.000000</td>\n",
       "      <td>49.875319</td>\n",
       "      <td>48.146469</td>\n",
       "      <td>48.787233</td>\n",
       "      <td>49.098762</td>\n",
       "      <td>51.018345</td>\n",
       "      <td>46.338136</td>\n",
       "      <td>183833.000000</td>\n",
       "      <td>15844.274809</td>\n",
       "      <td>99.000000</td>\n",
       "    </tr>\n",
       "  </tbody>\n",
       "</table>\n",
       "<p>8 rows × 27 columns</p>\n",
       "</div>"
      ],
      "text/plain": [
       "              price      bedrooms     bathrooms   sqft_living      sqft_lot  \\\n",
       "count  2.142000e+04  21420.000000  21420.000000  21420.000000  2.142000e+04   \n",
       "mean   5.407393e+05      3.373950      2.118429   2083.132633  1.512804e+04   \n",
       "std    3.679311e+05      0.925405      0.768720    918.808412  4.153080e+04   \n",
       "min    7.800000e+04      1.000000      0.500000    370.000000  5.200000e+02   \n",
       "25%    3.225000e+05      3.000000      1.750000   1430.000000  5.040000e+03   \n",
       "50%    4.500000e+05      3.000000      2.250000   1920.000000  7.614000e+03   \n",
       "75%    6.450000e+05      4.000000      2.500000   2550.000000  1.069050e+04   \n",
       "max    7.700000e+06     33.000000      8.000000  13540.000000  1.651359e+06   \n",
       "\n",
       "             floors    waterfront          view     condition         grade  \\\n",
       "count  21420.000000  21420.000000  21420.000000  21420.000000  21420.000000   \n",
       "mean       1.495985      0.006816      0.233987      3.410784      7.662792   \n",
       "std        0.540081      0.082280      0.765437      0.650035      1.171971   \n",
       "min        1.000000      0.000000      0.000000      1.000000      3.000000   \n",
       "25%        1.000000      0.000000      0.000000      3.000000      7.000000   \n",
       "50%        1.500000      0.000000      0.000000      3.000000      7.000000   \n",
       "75%        2.000000      0.000000      0.000000      4.000000      8.000000   \n",
       "max        3.500000      1.000000      4.000000      5.000000     13.000000   \n",
       "\n",
       "       ...     sqft_lot15  distance_to_airport  distance_to_seahawks_stadium  \\\n",
       "count  ...   21420.000000         21420.000000                  21420.000000   \n",
       "mean   ...   12775.718161            13.330562                     11.408495   \n",
       "std    ...   27345.621867             5.912335                      6.406267   \n",
       "min    ...     651.000000             0.794968                      0.781762   \n",
       "25%    ...    5100.000000             8.405874                      6.308190   \n",
       "50%    ...    7620.000000            13.487255                     10.390095   \n",
       "75%    ...   10086.250000            17.535100                     15.453381   \n",
       "max    ...  871200.000000            49.875319                     48.146469   \n",
       "\n",
       "       distance_to_seattle_center  distance_to_kerry_park  \\\n",
       "count                21420.000000            21420.000000   \n",
       "mean                    12.013397               12.284533   \n",
       "std                      7.098593                7.323247   \n",
       "min                      0.328556                0.086093   \n",
       "25%                      6.177725                6.415543   \n",
       "50%                     10.670040               10.919394   \n",
       "75%                     16.681599               17.154461   \n",
       "max                     48.787233               49.098762   \n",
       "\n",
       "       distance_to_discovery_park  minimum_distance_to_metro     med_income  \\\n",
       "count                21420.000000               21420.000000   21420.000000   \n",
       "mean                    13.983176                   6.970616   81151.809944   \n",
       "std                      8.042231                   4.979949   24184.833310   \n",
       "min                      0.156062                   0.039381   40815.000000   \n",
       "25%                      7.475380                   3.335343   63709.000000   \n",
       "50%                     13.131834                   5.974098   77688.000000   \n",
       "75%                     19.658747                   9.415636   95043.000000   \n",
       "max                     51.018345                  46.338136  183833.000000   \n",
       "\n",
       "            calc_pd    walk_score  \n",
       "count  21420.000000  21420.000000  \n",
       "mean    4294.850826     40.003361  \n",
       "std     2959.739674     28.561745  \n",
       "min       41.211905      0.000000  \n",
       "25%     2185.126582     14.000000  \n",
       "50%     3975.248933     36.000000  \n",
       "75%     6311.948867     65.000000  \n",
       "max    15844.274809     99.000000  \n",
       "\n",
       "[8 rows x 27 columns]"
      ]
     },
     "execution_count": 5,
     "metadata": {},
     "output_type": "execute_result"
    }
   ],
   "source": [
    "df.describe()\n"
   ]
  },
  {
   "cell_type": "code",
   "execution_count": 6,
   "metadata": {
    "ExecuteTime": {
     "end_time": "2020-09-17T22:09:59.665074Z",
     "start_time": "2020-09-17T22:09:59.612428Z"
    }
   },
   "outputs": [
    {
     "data": {
      "text/plain": [
       "3     9731\n",
       "4     6849\n",
       "2     2736\n",
       "5     1586\n",
       "6      265\n",
       "1      191\n",
       "7       38\n",
       "8       13\n",
       "9        6\n",
       "10       3\n",
       "11       1\n",
       "33       1\n",
       "Name: bedrooms, dtype: int64"
      ]
     },
     "execution_count": 6,
     "metadata": {},
     "output_type": "execute_result"
    }
   ],
   "source": [
    "df.bedrooms.value_counts()"
   ]
  },
  {
   "cell_type": "code",
   "execution_count": 7,
   "metadata": {
    "ExecuteTime": {
     "end_time": "2020-09-17T22:09:59.770561Z",
     "start_time": "2020-09-17T22:09:59.671407Z"
    },
    "scrolled": true
   },
   "outputs": [
    {
     "data": {
      "text/html": [
       "<div>\n",
       "<style scoped>\n",
       "    .dataframe tbody tr th:only-of-type {\n",
       "        vertical-align: middle;\n",
       "    }\n",
       "\n",
       "    .dataframe tbody tr th {\n",
       "        vertical-align: top;\n",
       "    }\n",
       "\n",
       "    .dataframe thead th {\n",
       "        text-align: right;\n",
       "    }\n",
       "</style>\n",
       "<table border=\"1\" class=\"dataframe\">\n",
       "  <thead>\n",
       "    <tr style=\"text-align: right;\">\n",
       "      <th></th>\n",
       "      <th>price</th>\n",
       "      <th>bedrooms</th>\n",
       "      <th>bathrooms</th>\n",
       "      <th>sqft_living</th>\n",
       "      <th>sqft_lot</th>\n",
       "      <th>floors</th>\n",
       "      <th>waterfront</th>\n",
       "      <th>view</th>\n",
       "      <th>condition</th>\n",
       "      <th>grade</th>\n",
       "      <th>...</th>\n",
       "      <th>sqft_lot15</th>\n",
       "      <th>distance_to_airport</th>\n",
       "      <th>distance_to_seahawks_stadium</th>\n",
       "      <th>distance_to_seattle_center</th>\n",
       "      <th>distance_to_kerry_park</th>\n",
       "      <th>distance_to_discovery_park</th>\n",
       "      <th>minimum_distance_to_metro</th>\n",
       "      <th>med_income</th>\n",
       "      <th>calc_pd</th>\n",
       "      <th>walk_score</th>\n",
       "    </tr>\n",
       "  </thead>\n",
       "  <tbody>\n",
       "    <tr>\n",
       "      <td>5368</td>\n",
       "      <td>640000.0</td>\n",
       "      <td>33</td>\n",
       "      <td>1.75</td>\n",
       "      <td>1620</td>\n",
       "      <td>6000</td>\n",
       "      <td>1.0</td>\n",
       "      <td>0.0</td>\n",
       "      <td>0.0</td>\n",
       "      <td>5</td>\n",
       "      <td>7</td>\n",
       "      <td>...</td>\n",
       "      <td>4700</td>\n",
       "      <td>16.44744</td>\n",
       "      <td>6.397437</td>\n",
       "      <td>4.654191</td>\n",
       "      <td>4.24761</td>\n",
       "      <td>4.065119</td>\n",
       "      <td>2.91604</td>\n",
       "      <td>75763.0</td>\n",
       "      <td>9894.612069</td>\n",
       "      <td>65</td>\n",
       "    </tr>\n",
       "  </tbody>\n",
       "</table>\n",
       "<p>1 rows × 27 columns</p>\n",
       "</div>"
      ],
      "text/plain": [
       "         price  bedrooms  bathrooms  sqft_living  sqft_lot  floors  \\\n",
       "5368  640000.0        33       1.75         1620      6000     1.0   \n",
       "\n",
       "      waterfront  view  condition  grade  ...  sqft_lot15  \\\n",
       "5368         0.0   0.0          5      7  ...        4700   \n",
       "\n",
       "      distance_to_airport  distance_to_seahawks_stadium  \\\n",
       "5368             16.44744                      6.397437   \n",
       "\n",
       "      distance_to_seattle_center  distance_to_kerry_park  \\\n",
       "5368                    4.654191                 4.24761   \n",
       "\n",
       "      distance_to_discovery_park  minimum_distance_to_metro  med_income  \\\n",
       "5368                    4.065119                    2.91604     75763.0   \n",
       "\n",
       "          calc_pd  walk_score  \n",
       "5368  9894.612069          65  \n",
       "\n",
       "[1 rows x 27 columns]"
      ]
     },
     "execution_count": 7,
     "metadata": {},
     "output_type": "execute_result"
    }
   ],
   "source": [
    "df.loc[df['bedrooms'] > 12]"
   ]
  },
  {
   "cell_type": "code",
   "execution_count": 8,
   "metadata": {
    "ExecuteTime": {
     "end_time": "2020-09-17T22:09:59.815020Z",
     "start_time": "2020-09-17T22:09:59.793645Z"
    }
   },
   "outputs": [],
   "source": [
    "df.loc[df['bedrooms'] > 12, 'bedrooms'] = 3"
   ]
  },
  {
   "cell_type": "code",
   "execution_count": 9,
   "metadata": {
    "ExecuteTime": {
     "end_time": "2020-09-17T22:10:00.367655Z",
     "start_time": "2020-09-17T22:09:59.844646Z"
    },
    "scrolled": true
   },
   "outputs": [
    {
     "data": {
      "text/html": [
       "<div>\n",
       "<style scoped>\n",
       "    .dataframe tbody tr th:only-of-type {\n",
       "        vertical-align: middle;\n",
       "    }\n",
       "\n",
       "    .dataframe tbody tr th {\n",
       "        vertical-align: top;\n",
       "    }\n",
       "\n",
       "    .dataframe thead th {\n",
       "        text-align: right;\n",
       "    }\n",
       "</style>\n",
       "<table border=\"1\" class=\"dataframe\">\n",
       "  <thead>\n",
       "    <tr style=\"text-align: right;\">\n",
       "      <th></th>\n",
       "      <th>price</th>\n",
       "      <th>bedrooms</th>\n",
       "      <th>bathrooms</th>\n",
       "      <th>sqft_living</th>\n",
       "      <th>sqft_lot</th>\n",
       "      <th>floors</th>\n",
       "      <th>waterfront</th>\n",
       "      <th>view</th>\n",
       "      <th>condition</th>\n",
       "      <th>grade</th>\n",
       "      <th>...</th>\n",
       "      <th>sqft_lot15</th>\n",
       "      <th>distance_to_airport</th>\n",
       "      <th>distance_to_seahawks_stadium</th>\n",
       "      <th>distance_to_seattle_center</th>\n",
       "      <th>distance_to_kerry_park</th>\n",
       "      <th>distance_to_discovery_park</th>\n",
       "      <th>minimum_distance_to_metro</th>\n",
       "      <th>med_income</th>\n",
       "      <th>calc_pd</th>\n",
       "      <th>walk_score</th>\n",
       "    </tr>\n",
       "  </thead>\n",
       "  <tbody>\n",
       "    <tr>\n",
       "      <td>count</td>\n",
       "      <td>2.142000e+04</td>\n",
       "      <td>21420.000000</td>\n",
       "      <td>21420.000000</td>\n",
       "      <td>21420.000000</td>\n",
       "      <td>2.142000e+04</td>\n",
       "      <td>21420.000000</td>\n",
       "      <td>21420.000000</td>\n",
       "      <td>21420.000000</td>\n",
       "      <td>21420.000000</td>\n",
       "      <td>21420.000000</td>\n",
       "      <td>...</td>\n",
       "      <td>21420.000000</td>\n",
       "      <td>21420.000000</td>\n",
       "      <td>21420.000000</td>\n",
       "      <td>21420.000000</td>\n",
       "      <td>21420.000000</td>\n",
       "      <td>21420.000000</td>\n",
       "      <td>21420.000000</td>\n",
       "      <td>21420.000000</td>\n",
       "      <td>21420.000000</td>\n",
       "      <td>21420.000000</td>\n",
       "    </tr>\n",
       "    <tr>\n",
       "      <td>mean</td>\n",
       "      <td>5.407393e+05</td>\n",
       "      <td>3.372549</td>\n",
       "      <td>2.118429</td>\n",
       "      <td>2083.132633</td>\n",
       "      <td>1.512804e+04</td>\n",
       "      <td>1.495985</td>\n",
       "      <td>0.006816</td>\n",
       "      <td>0.233987</td>\n",
       "      <td>3.410784</td>\n",
       "      <td>7.662792</td>\n",
       "      <td>...</td>\n",
       "      <td>12775.718161</td>\n",
       "      <td>13.330562</td>\n",
       "      <td>11.408495</td>\n",
       "      <td>12.013397</td>\n",
       "      <td>12.284533</td>\n",
       "      <td>13.983176</td>\n",
       "      <td>6.970616</td>\n",
       "      <td>81151.809944</td>\n",
       "      <td>4294.850826</td>\n",
       "      <td>40.003361</td>\n",
       "    </tr>\n",
       "    <tr>\n",
       "      <td>std</td>\n",
       "      <td>3.679311e+05</td>\n",
       "      <td>0.902995</td>\n",
       "      <td>0.768720</td>\n",
       "      <td>918.808412</td>\n",
       "      <td>4.153080e+04</td>\n",
       "      <td>0.540081</td>\n",
       "      <td>0.082280</td>\n",
       "      <td>0.765437</td>\n",
       "      <td>0.650035</td>\n",
       "      <td>1.171971</td>\n",
       "      <td>...</td>\n",
       "      <td>27345.621867</td>\n",
       "      <td>5.912335</td>\n",
       "      <td>6.406267</td>\n",
       "      <td>7.098593</td>\n",
       "      <td>7.323247</td>\n",
       "      <td>8.042231</td>\n",
       "      <td>4.979949</td>\n",
       "      <td>24184.833310</td>\n",
       "      <td>2959.739674</td>\n",
       "      <td>28.561745</td>\n",
       "    </tr>\n",
       "    <tr>\n",
       "      <td>min</td>\n",
       "      <td>7.800000e+04</td>\n",
       "      <td>1.000000</td>\n",
       "      <td>0.500000</td>\n",
       "      <td>370.000000</td>\n",
       "      <td>5.200000e+02</td>\n",
       "      <td>1.000000</td>\n",
       "      <td>0.000000</td>\n",
       "      <td>0.000000</td>\n",
       "      <td>1.000000</td>\n",
       "      <td>3.000000</td>\n",
       "      <td>...</td>\n",
       "      <td>651.000000</td>\n",
       "      <td>0.794968</td>\n",
       "      <td>0.781762</td>\n",
       "      <td>0.328556</td>\n",
       "      <td>0.086093</td>\n",
       "      <td>0.156062</td>\n",
       "      <td>0.039381</td>\n",
       "      <td>40815.000000</td>\n",
       "      <td>41.211905</td>\n",
       "      <td>0.000000</td>\n",
       "    </tr>\n",
       "    <tr>\n",
       "      <td>25%</td>\n",
       "      <td>3.225000e+05</td>\n",
       "      <td>3.000000</td>\n",
       "      <td>1.750000</td>\n",
       "      <td>1430.000000</td>\n",
       "      <td>5.040000e+03</td>\n",
       "      <td>1.000000</td>\n",
       "      <td>0.000000</td>\n",
       "      <td>0.000000</td>\n",
       "      <td>3.000000</td>\n",
       "      <td>7.000000</td>\n",
       "      <td>...</td>\n",
       "      <td>5100.000000</td>\n",
       "      <td>8.405874</td>\n",
       "      <td>6.308190</td>\n",
       "      <td>6.177725</td>\n",
       "      <td>6.415543</td>\n",
       "      <td>7.475380</td>\n",
       "      <td>3.335343</td>\n",
       "      <td>63709.000000</td>\n",
       "      <td>2185.126582</td>\n",
       "      <td>14.000000</td>\n",
       "    </tr>\n",
       "    <tr>\n",
       "      <td>50%</td>\n",
       "      <td>4.500000e+05</td>\n",
       "      <td>3.000000</td>\n",
       "      <td>2.250000</td>\n",
       "      <td>1920.000000</td>\n",
       "      <td>7.614000e+03</td>\n",
       "      <td>1.500000</td>\n",
       "      <td>0.000000</td>\n",
       "      <td>0.000000</td>\n",
       "      <td>3.000000</td>\n",
       "      <td>7.000000</td>\n",
       "      <td>...</td>\n",
       "      <td>7620.000000</td>\n",
       "      <td>13.487255</td>\n",
       "      <td>10.390095</td>\n",
       "      <td>10.670040</td>\n",
       "      <td>10.919394</td>\n",
       "      <td>13.131834</td>\n",
       "      <td>5.974098</td>\n",
       "      <td>77688.000000</td>\n",
       "      <td>3975.248933</td>\n",
       "      <td>36.000000</td>\n",
       "    </tr>\n",
       "    <tr>\n",
       "      <td>75%</td>\n",
       "      <td>6.450000e+05</td>\n",
       "      <td>4.000000</td>\n",
       "      <td>2.500000</td>\n",
       "      <td>2550.000000</td>\n",
       "      <td>1.069050e+04</td>\n",
       "      <td>2.000000</td>\n",
       "      <td>0.000000</td>\n",
       "      <td>0.000000</td>\n",
       "      <td>4.000000</td>\n",
       "      <td>8.000000</td>\n",
       "      <td>...</td>\n",
       "      <td>10086.250000</td>\n",
       "      <td>17.535100</td>\n",
       "      <td>15.453381</td>\n",
       "      <td>16.681599</td>\n",
       "      <td>17.154461</td>\n",
       "      <td>19.658747</td>\n",
       "      <td>9.415636</td>\n",
       "      <td>95043.000000</td>\n",
       "      <td>6311.948867</td>\n",
       "      <td>65.000000</td>\n",
       "    </tr>\n",
       "    <tr>\n",
       "      <td>max</td>\n",
       "      <td>7.700000e+06</td>\n",
       "      <td>11.000000</td>\n",
       "      <td>8.000000</td>\n",
       "      <td>13540.000000</td>\n",
       "      <td>1.651359e+06</td>\n",
       "      <td>3.500000</td>\n",
       "      <td>1.000000</td>\n",
       "      <td>4.000000</td>\n",
       "      <td>5.000000</td>\n",
       "      <td>13.000000</td>\n",
       "      <td>...</td>\n",
       "      <td>871200.000000</td>\n",
       "      <td>49.875319</td>\n",
       "      <td>48.146469</td>\n",
       "      <td>48.787233</td>\n",
       "      <td>49.098762</td>\n",
       "      <td>51.018345</td>\n",
       "      <td>46.338136</td>\n",
       "      <td>183833.000000</td>\n",
       "      <td>15844.274809</td>\n",
       "      <td>99.000000</td>\n",
       "    </tr>\n",
       "  </tbody>\n",
       "</table>\n",
       "<p>8 rows × 27 columns</p>\n",
       "</div>"
      ],
      "text/plain": [
       "              price      bedrooms     bathrooms   sqft_living      sqft_lot  \\\n",
       "count  2.142000e+04  21420.000000  21420.000000  21420.000000  2.142000e+04   \n",
       "mean   5.407393e+05      3.372549      2.118429   2083.132633  1.512804e+04   \n",
       "std    3.679311e+05      0.902995      0.768720    918.808412  4.153080e+04   \n",
       "min    7.800000e+04      1.000000      0.500000    370.000000  5.200000e+02   \n",
       "25%    3.225000e+05      3.000000      1.750000   1430.000000  5.040000e+03   \n",
       "50%    4.500000e+05      3.000000      2.250000   1920.000000  7.614000e+03   \n",
       "75%    6.450000e+05      4.000000      2.500000   2550.000000  1.069050e+04   \n",
       "max    7.700000e+06     11.000000      8.000000  13540.000000  1.651359e+06   \n",
       "\n",
       "             floors    waterfront          view     condition         grade  \\\n",
       "count  21420.000000  21420.000000  21420.000000  21420.000000  21420.000000   \n",
       "mean       1.495985      0.006816      0.233987      3.410784      7.662792   \n",
       "std        0.540081      0.082280      0.765437      0.650035      1.171971   \n",
       "min        1.000000      0.000000      0.000000      1.000000      3.000000   \n",
       "25%        1.000000      0.000000      0.000000      3.000000      7.000000   \n",
       "50%        1.500000      0.000000      0.000000      3.000000      7.000000   \n",
       "75%        2.000000      0.000000      0.000000      4.000000      8.000000   \n",
       "max        3.500000      1.000000      4.000000      5.000000     13.000000   \n",
       "\n",
       "       ...     sqft_lot15  distance_to_airport  distance_to_seahawks_stadium  \\\n",
       "count  ...   21420.000000         21420.000000                  21420.000000   \n",
       "mean   ...   12775.718161            13.330562                     11.408495   \n",
       "std    ...   27345.621867             5.912335                      6.406267   \n",
       "min    ...     651.000000             0.794968                      0.781762   \n",
       "25%    ...    5100.000000             8.405874                      6.308190   \n",
       "50%    ...    7620.000000            13.487255                     10.390095   \n",
       "75%    ...   10086.250000            17.535100                     15.453381   \n",
       "max    ...  871200.000000            49.875319                     48.146469   \n",
       "\n",
       "       distance_to_seattle_center  distance_to_kerry_park  \\\n",
       "count                21420.000000            21420.000000   \n",
       "mean                    12.013397               12.284533   \n",
       "std                      7.098593                7.323247   \n",
       "min                      0.328556                0.086093   \n",
       "25%                      6.177725                6.415543   \n",
       "50%                     10.670040               10.919394   \n",
       "75%                     16.681599               17.154461   \n",
       "max                     48.787233               49.098762   \n",
       "\n",
       "       distance_to_discovery_park  minimum_distance_to_metro     med_income  \\\n",
       "count                21420.000000               21420.000000   21420.000000   \n",
       "mean                    13.983176                   6.970616   81151.809944   \n",
       "std                      8.042231                   4.979949   24184.833310   \n",
       "min                      0.156062                   0.039381   40815.000000   \n",
       "25%                      7.475380                   3.335343   63709.000000   \n",
       "50%                     13.131834                   5.974098   77688.000000   \n",
       "75%                     19.658747                   9.415636   95043.000000   \n",
       "max                     51.018345                  46.338136  183833.000000   \n",
       "\n",
       "            calc_pd    walk_score  \n",
       "count  21420.000000  21420.000000  \n",
       "mean    4294.850826     40.003361  \n",
       "std     2959.739674     28.561745  \n",
       "min       41.211905      0.000000  \n",
       "25%     2185.126582     14.000000  \n",
       "50%     3975.248933     36.000000  \n",
       "75%     6311.948867     65.000000  \n",
       "max    15844.274809     99.000000  \n",
       "\n",
       "[8 rows x 27 columns]"
      ]
     },
     "execution_count": 9,
     "metadata": {},
     "output_type": "execute_result"
    }
   ],
   "source": [
    "df.describe()"
   ]
  },
  {
   "cell_type": "code",
   "execution_count": 10,
   "metadata": {
    "ExecuteTime": {
     "end_time": "2020-09-17T22:10:00.758026Z",
     "start_time": "2020-09-17T22:10:00.385197Z"
    }
   },
   "outputs": [
    {
     "data": {
      "text/html": [
       "<div>\n",
       "<style scoped>\n",
       "    .dataframe tbody tr th:only-of-type {\n",
       "        vertical-align: middle;\n",
       "    }\n",
       "\n",
       "    .dataframe tbody tr th {\n",
       "        vertical-align: top;\n",
       "    }\n",
       "\n",
       "    .dataframe thead tr th {\n",
       "        text-align: left;\n",
       "    }\n",
       "\n",
       "    .dataframe thead tr:last-of-type th {\n",
       "        text-align: right;\n",
       "    }\n",
       "</style>\n",
       "<table border=\"1\" class=\"dataframe\">\n",
       "  <thead>\n",
       "    <tr>\n",
       "      <th></th>\n",
       "      <th colspan=\"8\" halign=\"left\">price</th>\n",
       "      <th colspan=\"8\" halign=\"left\">sqft_living</th>\n",
       "    </tr>\n",
       "    <tr>\n",
       "      <th></th>\n",
       "      <th>count</th>\n",
       "      <th>mean</th>\n",
       "      <th>std</th>\n",
       "      <th>min</th>\n",
       "      <th>25%</th>\n",
       "      <th>50%</th>\n",
       "      <th>75%</th>\n",
       "      <th>max</th>\n",
       "      <th>count</th>\n",
       "      <th>mean</th>\n",
       "      <th>std</th>\n",
       "      <th>min</th>\n",
       "      <th>25%</th>\n",
       "      <th>50%</th>\n",
       "      <th>75%</th>\n",
       "      <th>max</th>\n",
       "    </tr>\n",
       "    <tr>\n",
       "      <th>floors</th>\n",
       "      <th></th>\n",
       "      <th></th>\n",
       "      <th></th>\n",
       "      <th></th>\n",
       "      <th></th>\n",
       "      <th></th>\n",
       "      <th></th>\n",
       "      <th></th>\n",
       "      <th></th>\n",
       "      <th></th>\n",
       "      <th></th>\n",
       "      <th></th>\n",
       "      <th></th>\n",
       "      <th></th>\n",
       "      <th></th>\n",
       "      <th></th>\n",
       "    </tr>\n",
       "  </thead>\n",
       "  <tbody>\n",
       "    <tr>\n",
       "      <td>1.0</td>\n",
       "      <td>10552.0</td>\n",
       "      <td>4.424419e+05</td>\n",
       "      <td>2.644318e+05</td>\n",
       "      <td>78000.0</td>\n",
       "      <td>276000.0</td>\n",
       "      <td>390000.0</td>\n",
       "      <td>530000.0</td>\n",
       "      <td>4670000.0</td>\n",
       "      <td>10552.0</td>\n",
       "      <td>1734.684325</td>\n",
       "      <td>703.299362</td>\n",
       "      <td>370.0</td>\n",
       "      <td>1220.0</td>\n",
       "      <td>1640.0</td>\n",
       "      <td>2110.0</td>\n",
       "      <td>9640.0</td>\n",
       "    </tr>\n",
       "    <tr>\n",
       "      <td>1.5</td>\n",
       "      <td>1888.0</td>\n",
       "      <td>5.598977e+05</td>\n",
       "      <td>3.046153e+05</td>\n",
       "      <td>92000.0</td>\n",
       "      <td>355000.0</td>\n",
       "      <td>525000.0</td>\n",
       "      <td>688597.0</td>\n",
       "      <td>3650000.0</td>\n",
       "      <td>1888.0</td>\n",
       "      <td>1910.324153</td>\n",
       "      <td>700.119780</td>\n",
       "      <td>490.0</td>\n",
       "      <td>1400.0</td>\n",
       "      <td>1760.0</td>\n",
       "      <td>2290.0</td>\n",
       "      <td>5530.0</td>\n",
       "    </tr>\n",
       "    <tr>\n",
       "      <td>2.0</td>\n",
       "      <td>8203.0</td>\n",
       "      <td>6.490914e+05</td>\n",
       "      <td>4.343605e+05</td>\n",
       "      <td>90000.0</td>\n",
       "      <td>379000.0</td>\n",
       "      <td>542500.0</td>\n",
       "      <td>772750.0</td>\n",
       "      <td>7060000.0</td>\n",
       "      <td>8203.0</td>\n",
       "      <td>2571.761673</td>\n",
       "      <td>955.139376</td>\n",
       "      <td>550.0</td>\n",
       "      <td>1890.0</td>\n",
       "      <td>2440.0</td>\n",
       "      <td>3090.0</td>\n",
       "      <td>10040.0</td>\n",
       "    </tr>\n",
       "    <tr>\n",
       "      <td>2.5</td>\n",
       "      <td>161.0</td>\n",
       "      <td>1.061021e+06</td>\n",
       "      <td>8.588360e+05</td>\n",
       "      <td>255000.0</td>\n",
       "      <td>550000.0</td>\n",
       "      <td>799200.0</td>\n",
       "      <td>1300000.0</td>\n",
       "      <td>7700000.0</td>\n",
       "      <td>161.0</td>\n",
       "      <td>3145.428571</td>\n",
       "      <td>1434.995822</td>\n",
       "      <td>990.0</td>\n",
       "      <td>2170.0</td>\n",
       "      <td>2850.0</td>\n",
       "      <td>3760.0</td>\n",
       "      <td>12050.0</td>\n",
       "    </tr>\n",
       "    <tr>\n",
       "      <td>3.0</td>\n",
       "      <td>609.0</td>\n",
       "      <td>5.832662e+05</td>\n",
       "      <td>3.391848e+05</td>\n",
       "      <td>205000.0</td>\n",
       "      <td>385000.0</td>\n",
       "      <td>491000.0</td>\n",
       "      <td>631500.0</td>\n",
       "      <td>3100000.0</td>\n",
       "      <td>609.0</td>\n",
       "      <td>1789.761905</td>\n",
       "      <td>961.892816</td>\n",
       "      <td>760.0</td>\n",
       "      <td>1310.0</td>\n",
       "      <td>1500.0</td>\n",
       "      <td>1810.0</td>\n",
       "      <td>13540.0</td>\n",
       "    </tr>\n",
       "    <tr>\n",
       "      <td>3.5</td>\n",
       "      <td>7.0</td>\n",
       "      <td>9.102143e+05</td>\n",
       "      <td>1.054669e+06</td>\n",
       "      <td>435000.0</td>\n",
       "      <td>502000.0</td>\n",
       "      <td>525000.0</td>\n",
       "      <td>553750.0</td>\n",
       "      <td>3300000.0</td>\n",
       "      <td>7.0</td>\n",
       "      <td>2440.000000</td>\n",
       "      <td>2331.022665</td>\n",
       "      <td>1310.0</td>\n",
       "      <td>1420.0</td>\n",
       "      <td>1730.0</td>\n",
       "      <td>1745.0</td>\n",
       "      <td>7710.0</td>\n",
       "    </tr>\n",
       "  </tbody>\n",
       "</table>\n",
       "</div>"
      ],
      "text/plain": [
       "          price                                                            \\\n",
       "          count          mean           std       min       25%       50%   \n",
       "floors                                                                      \n",
       "1.0     10552.0  4.424419e+05  2.644318e+05   78000.0  276000.0  390000.0   \n",
       "1.5      1888.0  5.598977e+05  3.046153e+05   92000.0  355000.0  525000.0   \n",
       "2.0      8203.0  6.490914e+05  4.343605e+05   90000.0  379000.0  542500.0   \n",
       "2.5       161.0  1.061021e+06  8.588360e+05  255000.0  550000.0  799200.0   \n",
       "3.0       609.0  5.832662e+05  3.391848e+05  205000.0  385000.0  491000.0   \n",
       "3.5         7.0  9.102143e+05  1.054669e+06  435000.0  502000.0  525000.0   \n",
       "\n",
       "                             sqft_living                                    \\\n",
       "              75%        max       count         mean          std     min   \n",
       "floors                                                                       \n",
       "1.0      530000.0  4670000.0     10552.0  1734.684325   703.299362   370.0   \n",
       "1.5      688597.0  3650000.0      1888.0  1910.324153   700.119780   490.0   \n",
       "2.0      772750.0  7060000.0      8203.0  2571.761673   955.139376   550.0   \n",
       "2.5     1300000.0  7700000.0       161.0  3145.428571  1434.995822   990.0   \n",
       "3.0      631500.0  3100000.0       609.0  1789.761905   961.892816   760.0   \n",
       "3.5      553750.0  3300000.0         7.0  2440.000000  2331.022665  1310.0   \n",
       "\n",
       "                                         \n",
       "           25%     50%     75%      max  \n",
       "floors                                   \n",
       "1.0     1220.0  1640.0  2110.0   9640.0  \n",
       "1.5     1400.0  1760.0  2290.0   5530.0  \n",
       "2.0     1890.0  2440.0  3090.0  10040.0  \n",
       "2.5     2170.0  2850.0  3760.0  12050.0  \n",
       "3.0     1310.0  1500.0  1810.0  13540.0  \n",
       "3.5     1420.0  1730.0  1745.0   7710.0  "
      ]
     },
     "execution_count": 10,
     "metadata": {},
     "output_type": "execute_result"
    }
   ],
   "source": [
    "#start dropping rows\n",
    "df.groupby('floors')['price', 'sqft_living'].describe()"
   ]
  },
  {
   "cell_type": "code",
   "execution_count": 11,
   "metadata": {
    "ExecuteTime": {
     "end_time": "2020-09-17T22:10:00.825797Z",
     "start_time": "2020-09-17T22:10:00.797410Z"
    }
   },
   "outputs": [],
   "source": [
    "df = df.drop(df[df.floors > 3].index)"
   ]
  },
  {
   "cell_type": "code",
   "execution_count": 12,
   "metadata": {
    "ExecuteTime": {
     "end_time": "2020-09-17T22:10:00.863912Z",
     "start_time": "2020-09-17T22:10:00.835630Z"
    }
   },
   "outputs": [],
   "source": [
    "df.loc[df['floors'] == 1.5, 'floors'] = 2\n",
    "df.loc[df['floors'] == 2.5, 'floors'] = 3"
   ]
  },
  {
   "cell_type": "markdown",
   "metadata": {},
   "source": [
    "We'll use the `yr_built` column to calculate the age of the home and use age as a continuous variable.  We'll also create a new variable called `renovation_age` which is calculated in the same way.  If the house has not been renovated then it will have a renovation age equal to 0."
   ]
  },
  {
   "cell_type": "code",
   "execution_count": 13,
   "metadata": {
    "ExecuteTime": {
     "end_time": "2020-09-17T22:10:01.129159Z",
     "start_time": "2020-09-17T22:10:00.871932Z"
    },
    "scrolled": true
   },
   "outputs": [
    {
     "data": {
      "text/html": [
       "<div>\n",
       "<style scoped>\n",
       "    .dataframe tbody tr th:only-of-type {\n",
       "        vertical-align: middle;\n",
       "    }\n",
       "\n",
       "    .dataframe tbody tr th {\n",
       "        vertical-align: top;\n",
       "    }\n",
       "\n",
       "    .dataframe thead th {\n",
       "        text-align: right;\n",
       "    }\n",
       "</style>\n",
       "<table border=\"1\" class=\"dataframe\">\n",
       "  <thead>\n",
       "    <tr style=\"text-align: right;\">\n",
       "      <th></th>\n",
       "      <th>price</th>\n",
       "      <th>bedrooms</th>\n",
       "      <th>bathrooms</th>\n",
       "      <th>sqft_living</th>\n",
       "      <th>sqft_lot</th>\n",
       "      <th>floors</th>\n",
       "      <th>waterfront</th>\n",
       "      <th>view</th>\n",
       "      <th>condition</th>\n",
       "      <th>grade</th>\n",
       "      <th>...</th>\n",
       "      <th>distance_to_seahawks_stadium</th>\n",
       "      <th>distance_to_seattle_center</th>\n",
       "      <th>distance_to_kerry_park</th>\n",
       "      <th>distance_to_discovery_park</th>\n",
       "      <th>minimum_distance_to_metro</th>\n",
       "      <th>med_income</th>\n",
       "      <th>calc_pd</th>\n",
       "      <th>walk_score</th>\n",
       "      <th>renovation_age</th>\n",
       "      <th>home_age</th>\n",
       "    </tr>\n",
       "  </thead>\n",
       "  <tbody>\n",
       "    <tr>\n",
       "      <td>0</td>\n",
       "      <td>221900.0</td>\n",
       "      <td>3</td>\n",
       "      <td>1.00</td>\n",
       "      <td>1180</td>\n",
       "      <td>5650</td>\n",
       "      <td>1.0</td>\n",
       "      <td>0.0</td>\n",
       "      <td>0.0</td>\n",
       "      <td>3</td>\n",
       "      <td>7</td>\n",
       "      <td>...</td>\n",
       "      <td>6.771217</td>\n",
       "      <td>8.837087</td>\n",
       "      <td>9.483657</td>\n",
       "      <td>12.249694</td>\n",
       "      <td>1.302968</td>\n",
       "      <td>58707.0</td>\n",
       "      <td>4967.42268</td>\n",
       "      <td>39</td>\n",
       "      <td>0.0</td>\n",
       "      <td>65</td>\n",
       "    </tr>\n",
       "    <tr>\n",
       "      <td>1</td>\n",
       "      <td>205425.0</td>\n",
       "      <td>2</td>\n",
       "      <td>1.00</td>\n",
       "      <td>880</td>\n",
       "      <td>6780</td>\n",
       "      <td>1.0</td>\n",
       "      <td>0.0</td>\n",
       "      <td>0.0</td>\n",
       "      <td>4</td>\n",
       "      <td>6</td>\n",
       "      <td>...</td>\n",
       "      <td>7.598140</td>\n",
       "      <td>9.663983</td>\n",
       "      <td>10.310590</td>\n",
       "      <td>13.074902</td>\n",
       "      <td>2.089548</td>\n",
       "      <td>58707.0</td>\n",
       "      <td>4967.42268</td>\n",
       "      <td>62</td>\n",
       "      <td>0.0</td>\n",
       "      <td>75</td>\n",
       "    </tr>\n",
       "    <tr>\n",
       "      <td>2</td>\n",
       "      <td>445000.0</td>\n",
       "      <td>3</td>\n",
       "      <td>2.25</td>\n",
       "      <td>2100</td>\n",
       "      <td>8201</td>\n",
       "      <td>1.0</td>\n",
       "      <td>0.0</td>\n",
       "      <td>2.0</td>\n",
       "      <td>3</td>\n",
       "      <td>8</td>\n",
       "      <td>...</td>\n",
       "      <td>7.222682</td>\n",
       "      <td>9.278340</td>\n",
       "      <td>9.927283</td>\n",
       "      <td>12.720516</td>\n",
       "      <td>1.894527</td>\n",
       "      <td>58707.0</td>\n",
       "      <td>4967.42268</td>\n",
       "      <td>23</td>\n",
       "      <td>0.0</td>\n",
       "      <td>53</td>\n",
       "    </tr>\n",
       "    <tr>\n",
       "      <td>3</td>\n",
       "      <td>236000.0</td>\n",
       "      <td>3</td>\n",
       "      <td>1.00</td>\n",
       "      <td>1300</td>\n",
       "      <td>5898</td>\n",
       "      <td>1.0</td>\n",
       "      <td>0.0</td>\n",
       "      <td>0.0</td>\n",
       "      <td>3</td>\n",
       "      <td>7</td>\n",
       "      <td>...</td>\n",
       "      <td>7.170015</td>\n",
       "      <td>9.237631</td>\n",
       "      <td>9.883293</td>\n",
       "      <td>12.639671</td>\n",
       "      <td>1.643102</td>\n",
       "      <td>58707.0</td>\n",
       "      <td>4967.42268</td>\n",
       "      <td>29</td>\n",
       "      <td>0.0</td>\n",
       "      <td>59</td>\n",
       "    </tr>\n",
       "    <tr>\n",
       "      <td>4</td>\n",
       "      <td>170000.0</td>\n",
       "      <td>2</td>\n",
       "      <td>1.00</td>\n",
       "      <td>860</td>\n",
       "      <td>5265</td>\n",
       "      <td>1.0</td>\n",
       "      <td>0.0</td>\n",
       "      <td>0.0</td>\n",
       "      <td>3</td>\n",
       "      <td>6</td>\n",
       "      <td>...</td>\n",
       "      <td>6.839175</td>\n",
       "      <td>8.907012</td>\n",
       "      <td>9.545065</td>\n",
       "      <td>12.244964</td>\n",
       "      <td>1.264256</td>\n",
       "      <td>58707.0</td>\n",
       "      <td>4967.42268</td>\n",
       "      <td>80</td>\n",
       "      <td>0.0</td>\n",
       "      <td>89</td>\n",
       "    </tr>\n",
       "  </tbody>\n",
       "</table>\n",
       "<p>5 rows × 27 columns</p>\n",
       "</div>"
      ],
      "text/plain": [
       "      price  bedrooms  bathrooms  sqft_living  sqft_lot  floors  waterfront  \\\n",
       "0  221900.0         3       1.00         1180      5650     1.0         0.0   \n",
       "1  205425.0         2       1.00          880      6780     1.0         0.0   \n",
       "2  445000.0         3       2.25         2100      8201     1.0         0.0   \n",
       "3  236000.0         3       1.00         1300      5898     1.0         0.0   \n",
       "4  170000.0         2       1.00          860      5265     1.0         0.0   \n",
       "\n",
       "   view  condition  grade  ...  distance_to_seahawks_stadium  \\\n",
       "0   0.0          3      7  ...                      6.771217   \n",
       "1   0.0          4      6  ...                      7.598140   \n",
       "2   2.0          3      8  ...                      7.222682   \n",
       "3   0.0          3      7  ...                      7.170015   \n",
       "4   0.0          3      6  ...                      6.839175   \n",
       "\n",
       "   distance_to_seattle_center  distance_to_kerry_park  \\\n",
       "0                    8.837087                9.483657   \n",
       "1                    9.663983               10.310590   \n",
       "2                    9.278340                9.927283   \n",
       "3                    9.237631                9.883293   \n",
       "4                    8.907012                9.545065   \n",
       "\n",
       "   distance_to_discovery_park  minimum_distance_to_metro  med_income  \\\n",
       "0                   12.249694                   1.302968     58707.0   \n",
       "1                   13.074902                   2.089548     58707.0   \n",
       "2                   12.720516                   1.894527     58707.0   \n",
       "3                   12.639671                   1.643102     58707.0   \n",
       "4                   12.244964                   1.264256     58707.0   \n",
       "\n",
       "      calc_pd  walk_score  renovation_age  home_age  \n",
       "0  4967.42268          39             0.0        65  \n",
       "1  4967.42268          62             0.0        75  \n",
       "2  4967.42268          23             0.0        53  \n",
       "3  4967.42268          29             0.0        59  \n",
       "4  4967.42268          80             0.0        89  \n",
       "\n",
       "[5 rows x 27 columns]"
      ]
     },
     "execution_count": 13,
     "metadata": {},
     "output_type": "execute_result"
    }
   ],
   "source": [
    "def calc_age(x):\n",
    "    \"\"\"Funtion calculates age of the house \"\"\"\n",
    "    if x == 0:\n",
    "        age = 0\n",
    "    else:\n",
    "        age = 2020 - x\n",
    "    return age\n",
    "df['renovation_age'] = df['yr_renovated'].map(calc_age)\n",
    "df['home_age'] = df['yr_built'].map(calc_age)\n",
    "df.drop(columns=['yr_built', 'yr_renovated'], inplace=True)\n",
    "df.head()\n"
   ]
  },
  {
   "cell_type": "code",
   "execution_count": null,
   "metadata": {
    "ExecuteTime": {
     "end_time": "2020-09-17T22:10:12.562075Z",
     "start_time": "2020-09-17T22:10:01.137322Z"
    }
   },
   "outputs": [],
   "source": [
    "#check the distributions of each of the columns\n",
    "df.drop(columns=['lat', 'long']).hist(figsize=(18,16));\n",
    "plt.tight_layout()"
   ]
  },
  {
   "cell_type": "code",
   "execution_count": null,
   "metadata": {
    "ExecuteTime": {
     "end_time": "2020-09-17T22:10:24.614608Z",
     "start_time": "2020-09-17T22:10:12.565922Z"
    }
   },
   "outputs": [],
   "source": [
    "# Check scatter plot of each column with continuos data\n",
    "cont_cols = ['calc_pd', 'distance_to_airport', 'distance_to_discovery_park', 'distance_to_kerry_park',\n",
    "             'distance_to_seahawks_stadium', 'distance_to_seattle_center', 'home_age', 'med_income',\n",
    "             'minimum_distance_to_metro', 'renovation_age', 'sqft_above', 'sqft_basement', 'sqft_living',\n",
    "             'sqft_living15', 'sqft_lot', 'sqft_lot15', 'walk_score']\n",
    "plt.figure(figsize=(20,20))\n",
    "for i in range(0, 20):\n",
    "    plt.subplot(5, 4, i+1)\n",
    "    if i > 16:\n",
    "        break\n",
    "    plt.scatter(df[cont_cols[i]], df['price'])\n",
    "    plt.xlabel(cont_cols[i])\n",
    "    plt.ylabel('Price')\n",
    "plt.tight_layout()"
   ]
  },
  {
   "cell_type": "code",
   "execution_count": null,
   "metadata": {
    "ExecuteTime": {
     "end_time": "2020-09-17T22:10:29.550063Z",
     "start_time": "2020-09-17T22:10:24.618364Z"
    }
   },
   "outputs": [],
   "source": [
    "# Check scatter plot of each column with categorical data\n",
    "cat_cols = ['bathrooms', 'bedrooms', 'condition', 'floors', 'grade', 'view', 'waterfront']\n",
    "plt.figure(figsize=(20,20))\n",
    "for i in range(0, 8):\n",
    "    plt.subplot(4, 2, i+1)\n",
    "    if i > 6:\n",
    "        break\n",
    "    plt.scatter(df[cat_cols[i]], df['price'])\n",
    "    plt.xlabel(cat_cols[i])\n",
    "    plt.ylabel('Price')\n",
    "plt.tight_layout()"
   ]
  },
  {
   "cell_type": "code",
   "execution_count": null,
   "metadata": {
    "ExecuteTime": {
     "end_time": "2020-09-17T22:10:29.567657Z",
     "start_time": "2020-09-17T22:10:29.553325Z"
    }
   },
   "outputs": [],
   "source": [
    "df = df.loc[df.bedrooms <= 6]"
   ]
  },
  {
   "cell_type": "code",
   "execution_count": null,
   "metadata": {
    "ExecuteTime": {
     "end_time": "2020-09-17T22:10:29.597398Z",
     "start_time": "2020-09-17T22:10:29.581955Z"
    }
   },
   "outputs": [],
   "source": [
    "df = df.loc[df.bathrooms <= 5]"
   ]
  },
  {
   "cell_type": "code",
   "execution_count": null,
   "metadata": {
    "ExecuteTime": {
     "end_time": "2020-09-17T22:10:35.266252Z",
     "start_time": "2020-09-17T22:10:29.602729Z"
    }
   },
   "outputs": [],
   "source": [
    "plt.figure(figsize=(20,20))\n",
    "sns.heatmap(df.drop(columns=['lat', 'long']).corr(), annot=True);"
   ]
  },
  {
   "cell_type": "code",
   "execution_count": null,
   "metadata": {
    "ExecuteTime": {
     "end_time": "2020-09-17T22:10:35.283607Z",
     "start_time": "2020-09-17T22:10:35.269145Z"
    }
   },
   "outputs": [],
   "source": [
    "# Remove columns we dont intend to use or have to high multicollinearity \n",
    "df.drop(columns=['condition', 'distance_to_discovery_park', 'distance_to_kerry_park', \n",
    "                'distance_to_seahawks_stadium', 'minimum_distance_to_metro', 'renovation_age',\n",
    "                'sqft_living', 'sqft_living15', 'sqft_lot', 'sqft_lot15', 'view', 'waterfront',\n",
    "                'grade', 'lat', 'long'], inplace=True)\n"
   ]
  },
  {
   "cell_type": "code",
   "execution_count": null,
   "metadata": {
    "ExecuteTime": {
     "end_time": "2020-09-17T22:10:35.916035Z",
     "start_time": "2020-09-17T22:10:35.287961Z"
    }
   },
   "outputs": [],
   "source": [
    "X = df.drop(columns=['price'])\n",
    "vif = [variance_inflation_factor(X.values, i) for i in range(X.shape[1])]\n",
    "list(zip(X.columns, vif))"
   ]
  },
  {
   "cell_type": "code",
   "execution_count": null,
   "metadata": {
    "ExecuteTime": {
     "end_time": "2020-09-17T22:10:35.946614Z",
     "start_time": "2020-09-17T22:10:35.924496Z"
    }
   },
   "outputs": [],
   "source": [
    "#Calculate a new metric for Bathroom and Bedrooms\n",
    "df['bed_bath'] = df['bedrooms'] / df['bathrooms']"
   ]
  },
  {
   "cell_type": "code",
   "execution_count": null,
   "metadata": {
    "ExecuteTime": {
     "end_time": "2020-09-17T22:10:36.005895Z",
     "start_time": "2020-09-17T22:10:35.990227Z"
    }
   },
   "outputs": [],
   "source": [
    "#plt.figure(figsize=(20,20))\n",
    "#sns.heatmap(df.corr(), annot=True);"
   ]
  },
  {
   "cell_type": "code",
   "execution_count": null,
   "metadata": {
    "ExecuteTime": {
     "end_time": "2020-09-17T22:10:36.043172Z",
     "start_time": "2020-09-17T22:10:36.024499Z"
    }
   },
   "outputs": [],
   "source": [
    "df.drop(columns=['bedrooms', 'bathrooms'], inplace=True)"
   ]
  },
  {
   "cell_type": "code",
   "execution_count": null,
   "metadata": {
    "ExecuteTime": {
     "end_time": "2020-09-17T22:10:36.069244Z",
     "start_time": "2020-09-17T22:10:36.051913Z"
    }
   },
   "outputs": [],
   "source": [
    "len(df)"
   ]
  },
  {
   "cell_type": "code",
   "execution_count": null,
   "metadata": {
    "ExecuteTime": {
     "end_time": "2020-09-17T22:10:36.083818Z",
     "start_time": "2020-09-17T22:10:36.074912Z"
    }
   },
   "outputs": [],
   "source": [
    "#plt.figure(figsize=(20,20))\n",
    "#sns.heatmap(df.corr(), annot=True);\n"
   ]
  },
  {
   "cell_type": "code",
   "execution_count": null,
   "metadata": {
    "ExecuteTime": {
     "end_time": "2020-09-17T22:10:36.372136Z",
     "start_time": "2020-09-17T22:10:36.089777Z"
    }
   },
   "outputs": [],
   "source": [
    "df.loc[df['sqft_basement']].describe()"
   ]
  },
  {
   "cell_type": "code",
   "execution_count": null,
   "metadata": {
    "ExecuteTime": {
     "end_time": "2020-09-17T22:10:36.397653Z",
     "start_time": "2020-09-17T22:10:36.384751Z"
    }
   },
   "outputs": [],
   "source": [
    "df['sqft_basement'] = df['sqft_basement'].astype(dtype='int64')"
   ]
  },
  {
   "cell_type": "code",
   "execution_count": null,
   "metadata": {
    "ExecuteTime": {
     "end_time": "2020-09-17T22:10:36.482141Z",
     "start_time": "2020-09-17T22:10:36.408297Z"
    }
   },
   "outputs": [],
   "source": [
    "#Categorize basement area into 4 categories \n",
    "df.loc[df['sqft_basement'] < 1, 'sqft_basement'] = 1\n",
    "df.loc[((df['sqft_basement'] > 1) & (df['sqft_basement'] <=450)) , 'sqft_basement'] = 2\n",
    "df.loc[((df['sqft_basement'] > 450) & (df['sqft_basement'] <= 970)), 'sqft_basement'] = 3\n",
    "df.loc[df['sqft_basement'] > 970, 'sqft_basement'] = 4"
   ]
  },
  {
   "cell_type": "code",
   "execution_count": null,
   "metadata": {
    "ExecuteTime": {
     "end_time": "2020-09-17T22:10:36.519978Z",
     "start_time": "2020-09-17T22:10:36.487550Z"
    }
   },
   "outputs": [],
   "source": [
    "bsmt_cat = df['sqft_basement'].astype('category')\n",
    "bsmt_dum_df = pd.get_dummies(bsmt_cat, prefix='bsmt_val', drop_first=True)\n",
    "df = pd.concat([df, bsmt_dum_df], axis=1)"
   ]
  },
  {
   "cell_type": "code",
   "execution_count": null,
   "metadata": {
    "ExecuteTime": {
     "end_time": "2020-09-17T22:10:36.566853Z",
     "start_time": "2020-09-17T22:10:36.524947Z"
    }
   },
   "outputs": [],
   "source": [
    "#Categorize floors\n",
    "floors_cat = df['floors'].astype('category')\n",
    "floors_dum_df = pd.get_dummies(floors_cat, prefix='story', drop_first=True)\n",
    "df = pd.concat([df, floors_dum_df], axis=1)"
   ]
  },
  {
   "cell_type": "code",
   "execution_count": null,
   "metadata": {
    "ExecuteTime": {
     "end_time": "2020-09-17T22:10:36.594044Z",
     "start_time": "2020-09-17T22:10:36.576247Z"
    }
   },
   "outputs": [],
   "source": [
    "df.columns"
   ]
  },
  {
   "cell_type": "code",
   "execution_count": null,
   "metadata": {
    "ExecuteTime": {
     "end_time": "2020-09-17T22:10:36.629696Z",
     "start_time": "2020-09-17T22:10:36.604048Z"
    }
   },
   "outputs": [],
   "source": [
    "df.rename(columns={'story_2.0': 'two_story', 'story_3.0': 'three_story'},inplace=True)\n",
    "df.rename(columns={'bsmt_val_2': 'bsmt_med', 'bsmt_val_3':'bsmt_large', 'bsmt_val_4':'bsmt_xlarge'}, inplace=True)"
   ]
  },
  {
   "cell_type": "code",
   "execution_count": null,
   "metadata": {
    "ExecuteTime": {
     "end_time": "2020-09-17T22:10:36.651710Z",
     "start_time": "2020-09-17T22:10:36.635699Z"
    }
   },
   "outputs": [],
   "source": [
    "df.drop(columns=['floors', 'sqft_basement'], inplace=True)\n"
   ]
  },
  {
   "cell_type": "code",
   "execution_count": null,
   "metadata": {
    "ExecuteTime": {
     "end_time": "2020-09-17T22:10:36.682428Z",
     "start_time": "2020-09-17T22:10:36.664079Z"
    }
   },
   "outputs": [],
   "source": [
    "#plt.figure(figsize=(20,20))\n",
    "#sns.heatmap(df.corr(), annot=True);"
   ]
  },
  {
   "cell_type": "code",
   "execution_count": null,
   "metadata": {
    "ExecuteTime": {
     "end_time": "2020-09-17T22:10:37.504123Z",
     "start_time": "2020-09-17T22:10:36.704259Z"
    }
   },
   "outputs": [],
   "source": [
    "# Check for multicollinearity using VIF\n",
    "X = df.drop(columns=['price'])\n",
    "vif = [variance_inflation_factor(X.values, i) for i in range(X.shape[1])]\n",
    "list(zip(X.columns, vif))"
   ]
  },
  {
   "cell_type": "code",
   "execution_count": null,
   "metadata": {
    "ExecuteTime": {
     "end_time": "2020-09-17T22:10:37.566184Z",
     "start_time": "2020-09-17T22:10:37.531960Z"
    }
   },
   "outputs": [],
   "source": [
    "outcome = 'price'\n",
    "predictors = df.drop('price', axis=1)\n",
    "pred_sum = '+'.join(predictors.columns)\n",
    "formula = outcome + '~' + pred_sum"
   ]
  },
  {
   "cell_type": "code",
   "execution_count": null,
   "metadata": {
    "ExecuteTime": {
     "end_time": "2020-09-17T22:10:37.944560Z",
     "start_time": "2020-09-17T22:10:37.576222Z"
    },
    "scrolled": true
   },
   "outputs": [],
   "source": [
    "model_vanilla1 = ols(formula=formula, data=df).fit()\n",
    "model_vanilla1.summary()"
   ]
  },
  {
   "cell_type": "code",
   "execution_count": null,
   "metadata": {
    "ExecuteTime": {
     "end_time": "2020-09-17T22:10:40.217319Z",
     "start_time": "2020-09-17T22:10:37.950931Z"
    }
   },
   "outputs": [],
   "source": [
    "#look at distributions to check for outliers\n",
    "fig, axes = plt.subplots(3, 1, figsize=(8, 10))\n",
    "sns.distplot(df['price'], ax=axes[0])\n",
    "sns.distplot(df['sqft_above'], ax=axes[1])\n",
    "sns.distplot(df['bed_bath'], ax=axes[2])\n",
    "\n",
    "plt.tight_layout()"
   ]
  },
  {
   "cell_type": "code",
   "execution_count": null,
   "metadata": {
    "ExecuteTime": {
     "end_time": "2020-09-17T22:10:40.241645Z",
     "start_time": "2020-09-17T22:10:40.221664Z"
    }
   },
   "outputs": [],
   "source": [
    "df['price'].describe()"
   ]
  },
  {
   "cell_type": "code",
   "execution_count": null,
   "metadata": {
    "ExecuteTime": {
     "end_time": "2020-09-17T22:10:40.265868Z",
     "start_time": "2020-09-17T22:10:40.245383Z"
    }
   },
   "outputs": [],
   "source": [
    "# Outlier metric using quantiles for 2 St dev.\n",
    "upper_price = df['price'].quantile([0.975])\n",
    "lower_price = df['price'].quantile([0.025])\n",
    "print(upper_price)\n",
    "print(lower_price)"
   ]
  },
  {
   "cell_type": "code",
   "execution_count": null,
   "metadata": {
    "ExecuteTime": {
     "end_time": "2020-09-17T22:10:40.287834Z",
     "start_time": "2020-09-17T22:10:40.270548Z"
    }
   },
   "outputs": [],
   "source": [
    "#eliminate price outliers\n",
    "df = df.loc[(df.price < 1490000) & (df.price > 185000)]"
   ]
  },
  {
   "cell_type": "code",
   "execution_count": null,
   "metadata": {
    "ExecuteTime": {
     "end_time": "2020-09-17T22:10:40.316691Z",
     "start_time": "2020-09-17T22:10:40.292204Z"
    }
   },
   "outputs": [],
   "source": [
    "upper_price = df['price'].quantile([0.975])\n",
    "lower_price = df['price'].quantile([0.025])\n",
    "print(upper_price)\n",
    "print(lower_price)"
   ]
  },
  {
   "cell_type": "code",
   "execution_count": null,
   "metadata": {
    "ExecuteTime": {
     "end_time": "2020-09-17T22:10:40.337340Z",
     "start_time": "2020-09-17T22:10:40.323160Z"
    }
   },
   "outputs": [],
   "source": [
    "df = df.loc[df.price < 1170000]"
   ]
  },
  {
   "cell_type": "code",
   "execution_count": null,
   "metadata": {
    "ExecuteTime": {
     "end_time": "2020-09-17T22:10:40.362376Z",
     "start_time": "2020-09-17T22:10:40.341684Z"
    }
   },
   "outputs": [],
   "source": [
    "upper_sqft = df['sqft_above'].quantile([0.997])\n",
    "lower_sqft = df['sqft_above'].quantile([0.003])\n",
    "print(upper_sqft)\n",
    "print(lower_sqft)"
   ]
  },
  {
   "cell_type": "code",
   "execution_count": null,
   "metadata": {
    "ExecuteTime": {
     "end_time": "2020-09-17T22:10:40.395460Z",
     "start_time": "2020-09-17T22:10:40.367183Z"
    }
   },
   "outputs": [],
   "source": [
    "upper_bed_bath = df['bed_bath'].quantile([0.997])\n",
    "lower_bed_bath = df['bed_bath'].quantile([0.003])\n",
    "print(upper_bed_bath)\n",
    "print(lower_bed_bath)"
   ]
  },
  {
   "cell_type": "code",
   "execution_count": null,
   "metadata": {
    "ExecuteTime": {
     "end_time": "2020-09-17T22:10:40.761624Z",
     "start_time": "2020-09-17T22:10:40.468298Z"
    }
   },
   "outputs": [],
   "source": [
    "df.loc[(df['bed_bath'] < 1) & (df['bed_bath'] > 0.5)].describe()"
   ]
  },
  {
   "cell_type": "code",
   "execution_count": null,
   "metadata": {
    "ExecuteTime": {
     "end_time": "2020-09-17T22:10:41.099860Z",
     "start_time": "2020-09-17T22:10:40.771194Z"
    }
   },
   "outputs": [],
   "source": [
    "df.loc[df.bed_bath == 4].describe()"
   ]
  },
  {
   "cell_type": "code",
   "execution_count": null,
   "metadata": {
    "ExecuteTime": {
     "end_time": "2020-09-17T22:10:41.389154Z",
     "start_time": "2020-09-17T22:10:41.131724Z"
    },
    "scrolled": true
   },
   "outputs": [],
   "source": [
    "df.loc[df.bed_bath > 4].describe()"
   ]
  },
  {
   "cell_type": "code",
   "execution_count": null,
   "metadata": {
    "ExecuteTime": {
     "end_time": "2020-09-17T22:10:41.464624Z",
     "start_time": "2020-09-17T22:10:41.421255Z"
    }
   },
   "outputs": [],
   "source": [
    "df = df.loc[(df.bed_bath < 4) & (df.bed_bath > 1)]"
   ]
  },
  {
   "cell_type": "code",
   "execution_count": null,
   "metadata": {
    "ExecuteTime": {
     "end_time": "2020-09-17T22:10:44.029888Z",
     "start_time": "2020-09-17T22:10:41.481140Z"
    }
   },
   "outputs": [],
   "source": [
    "fig, axes = plt.subplots(3, 1, figsize=(8, 10))\n",
    "sns.distplot(df['price'], ax=axes[0])\n",
    "sns.distplot(df['sqft_above'], ax=axes[1])\n",
    "sns.distplot(df['bed_bath'], ax=axes[2])\n",
    "\n",
    "plt.tight_layout()"
   ]
  },
  {
   "cell_type": "code",
   "execution_count": null,
   "metadata": {
    "ExecuteTime": {
     "end_time": "2020-09-17T22:10:44.257662Z",
     "start_time": "2020-09-17T22:10:44.033674Z"
    }
   },
   "outputs": [],
   "source": [
    "df.loc[(df.sqft_above < 610) | (df.sqft_above > 4500)].describe()"
   ]
  },
  {
   "cell_type": "code",
   "execution_count": null,
   "metadata": {
    "ExecuteTime": {
     "end_time": "2020-09-17T22:10:44.292101Z",
     "start_time": "2020-09-17T22:10:44.269385Z"
    }
   },
   "outputs": [],
   "source": [
    "df = df.loc[(df.sqft_above > 610) & (df.sqft_above < 4500)]"
   ]
  },
  {
   "cell_type": "code",
   "execution_count": null,
   "metadata": {
    "ExecuteTime": {
     "end_time": "2020-09-17T22:10:46.408841Z",
     "start_time": "2020-09-17T22:10:44.299247Z"
    }
   },
   "outputs": [],
   "source": [
    "fig, axes = plt.subplots(3, 1, figsize=(8, 10))\n",
    "sns.distplot(df['price'], ax=axes[0])\n",
    "sns.distplot(df['sqft_above'], ax=axes[1])\n",
    "sns.distplot(df['bed_bath'], ax=axes[2])\n",
    "\n",
    "plt.tight_layout()"
   ]
  },
  {
   "cell_type": "code",
   "execution_count": null,
   "metadata": {
    "ExecuteTime": {
     "end_time": "2020-09-17T22:10:46.425390Z",
     "start_time": "2020-09-17T22:10:46.412667Z"
    },
    "scrolled": true
   },
   "outputs": [],
   "source": [
    "len(df)"
   ]
  },
  {
   "cell_type": "code",
   "execution_count": null,
   "metadata": {
    "ExecuteTime": {
     "end_time": "2020-09-17T22:10:46.685858Z",
     "start_time": "2020-09-17T22:10:46.430841Z"
    }
   },
   "outputs": [],
   "source": [
    "df.describe()"
   ]
  },
  {
   "cell_type": "code",
   "execution_count": null,
   "metadata": {
    "ExecuteTime": {
     "end_time": "2020-09-17T22:10:47.148863Z",
     "start_time": "2020-09-17T22:10:46.691453Z"
    }
   },
   "outputs": [],
   "source": [
    "vanilla_model2 = ols(formula=formula, data=df).fit()\n",
    "vanilla_model2.summary()"
   ]
  },
  {
   "cell_type": "code",
   "execution_count": null,
   "metadata": {
    "ExecuteTime": {
     "end_time": "2020-09-17T22:10:50.050553Z",
     "start_time": "2020-09-17T22:10:47.209865Z"
    }
   },
   "outputs": [],
   "source": [
    "plt.figure(figsize=(20,20))\n",
    "sns.heatmap(df.corr(), annot=True);"
   ]
  },
  {
   "cell_type": "code",
   "execution_count": null,
   "metadata": {
    "ExecuteTime": {
     "end_time": "2020-09-17T22:10:50.644410Z",
     "start_time": "2020-09-17T22:10:50.053998Z"
    }
   },
   "outputs": [],
   "source": [
    "X = df.drop(columns=['price'])\n",
    "vif = [variance_inflation_factor(X.values, i) for i in range(X.shape[1])]\n",
    "list(zip(X.columns, vif))"
   ]
  },
  {
   "cell_type": "code",
   "execution_count": null,
   "metadata": {
    "ExecuteTime": {
     "end_time": "2020-09-17T22:10:50.682806Z",
     "start_time": "2020-09-17T22:10:50.659123Z"
    }
   },
   "outputs": [],
   "source": [
    "df_drop1 = df.drop(columns=['distance_to_airport', 'calc_pd'])"
   ]
  },
  {
   "cell_type": "code",
   "execution_count": null,
   "metadata": {
    "ExecuteTime": {
     "end_time": "2020-09-17T22:10:51.128570Z",
     "start_time": "2020-09-17T22:10:50.694982Z"
    }
   },
   "outputs": [],
   "source": [
    "X = df_drop1.drop(columns=['price'])\n",
    "vif = [variance_inflation_factor(X.values, i) for i in range(X.shape[1])]\n",
    "list(zip(X.columns, vif))"
   ]
  },
  {
   "cell_type": "code",
   "execution_count": null,
   "metadata": {
    "ExecuteTime": {
     "end_time": "2020-09-17T22:10:51.159873Z",
     "start_time": "2020-09-17T22:10:51.141355Z"
    }
   },
   "outputs": [],
   "source": [
    "df_drop2 = df_drop1.drop(columns=['walk_score'])"
   ]
  },
  {
   "cell_type": "code",
   "execution_count": null,
   "metadata": {
    "ExecuteTime": {
     "end_time": "2020-09-17T22:10:51.495210Z",
     "start_time": "2020-09-17T22:10:51.169742Z"
    }
   },
   "outputs": [],
   "source": [
    "X = df_drop2.drop(columns=['price'])\n",
    "vif = [variance_inflation_factor(X.values, i) for i in range(X.shape[1])]\n",
    "list(zip(X.columns, vif))"
   ]
  },
  {
   "cell_type": "code",
   "execution_count": null,
   "metadata": {
    "ExecuteTime": {
     "end_time": "2020-09-17T22:10:53.438744Z",
     "start_time": "2020-09-17T22:10:51.508144Z"
    }
   },
   "outputs": [],
   "source": [
    "plt.figure(figsize=(10,10))\n",
    "sns.heatmap(df_drop2.corr(), annot=True);"
   ]
  },
  {
   "cell_type": "code",
   "execution_count": null,
   "metadata": {
    "ExecuteTime": {
     "end_time": "2020-09-17T22:10:53.794397Z",
     "start_time": "2020-09-17T22:10:53.442296Z"
    },
    "scrolled": true
   },
   "outputs": [],
   "source": [
    "outcome = 'price'\n",
    "predictors = df_drop2.drop('price', axis=1)\n",
    "pred_sum = '+'.join(predictors.columns)\n",
    "formula = outcome + '~' + pred_sum\n",
    "\n",
    "vanilla_model3 = ols(formula=formula, data=df_drop1).fit()\n",
    "vanilla_model3.summary()"
   ]
  },
  {
   "cell_type": "code",
   "execution_count": null,
   "metadata": {
    "ExecuteTime": {
     "end_time": "2020-09-17T22:10:53.885908Z",
     "start_time": "2020-09-17T22:10:53.805429Z"
    }
   },
   "outputs": [],
   "source": [
    "df_high_pval = df_drop2.drop(columns=['two_story'])\n",
    "df_high_pval.head()"
   ]
  },
  {
   "cell_type": "code",
   "execution_count": null,
   "metadata": {
    "ExecuteTime": {
     "end_time": "2020-09-17T22:10:54.667845Z",
     "start_time": "2020-09-17T22:10:53.892744Z"
    }
   },
   "outputs": [],
   "source": [
    "#Log transform \n",
    "df_log = pd.DataFrame()\n",
    "df_log['price'] = df_high_pval['price'].map(lambda x: np.log(x))\n",
    "df_log['sqft_above'] = df_high_pval['sqft_above'].map(lambda x: np.log(x))\n",
    "#df_log['sqft_basement'] = df_high_pval['sqft_basement'].map(lambda x: np.log(x+1))\n",
    "df_log['dist_to_seattle_center'] = df_high_pval['distance_to_seattle_center'].map(lambda x: np.log(x))\n",
    "df_log['med_income'] = df_high_pval['med_income'].map(lambda x: np.log(x))\n",
    "df_log['home_age'] = df_high_pval['home_age'].map(lambda x: np.log(x))\n",
    "df_log['bed_bath'] = df_high_pval['bed_bath'].map(lambda x: np.log(x))\n",
    "#df_log['two_story'] = df_high_pval['two_story']\n",
    "df_log['bsmt_med'] = df_high_pval['bsmt_med']\n",
    "df_log['bsmt_large'] = df_high_pval['bsmt_large']\n",
    "df_log['bsmt_xlarge'] = df_high_pval['bsmt_xlarge']\n",
    "df_log['three_story'] = df_high_pval['three_story']\n",
    "\n",
    "df_log.head()"
   ]
  },
  {
   "cell_type": "code",
   "execution_count": null,
   "metadata": {
    "ExecuteTime": {
     "end_time": "2020-09-17T22:10:54.806018Z",
     "start_time": "2020-09-17T22:10:54.746994Z"
    }
   },
   "outputs": [],
   "source": [
    "# Scale data \n",
    "from sklearn.preprocessing import MinMaxScaler\n",
    "scaler = MinMaxScaler()\n",
    "scaled = scaler.fit_transform(df_log)\n",
    "scaled_df = pd.DataFrame(scaled)\n",
    "column_dict = dict(zip(scaled_df.columns, df_log.columns))\n",
    "\n",
    "scaled_df.rename(columns=column_dict, inplace=True)\n",
    "scaled_df.head()"
   ]
  },
  {
   "cell_type": "code",
   "execution_count": null,
   "metadata": {
    "ExecuteTime": {
     "end_time": "2020-09-17T22:10:55.197198Z",
     "start_time": "2020-09-17T22:10:54.860961Z"
    }
   },
   "outputs": [],
   "source": [
    "outcome = 'price'\n",
    "predictors_scaled = scaled_df.drop(['price'], axis=1)\n",
    "pred_scaled_sum = '+'.join(predictors_scaled.columns)\n",
    "formula_scaled = outcome + '~' + pred_scaled_sum\n",
    "\n",
    "model4 = ols(formula = formula_scaled, data=scaled_df).fit()\n",
    "model4.summary()"
   ]
  },
  {
   "cell_type": "code",
   "execution_count": null,
   "metadata": {
    "ExecuteTime": {
     "end_time": "2020-09-17T22:10:55.940498Z",
     "start_time": "2020-09-17T22:10:55.204016Z"
    }
   },
   "outputs": [],
   "source": [
    "import scipy.stats as stats\n",
    "resid = model4.resid\n",
    "fig = sm.graphics.qqplot(resid, dist=stats.norm, line='45', fit=True)"
   ]
  },
  {
   "cell_type": "code",
   "execution_count": null,
   "metadata": {
    "ExecuteTime": {
     "end_time": "2020-09-17T22:10:56.053940Z",
     "start_time": "2020-09-17T22:10:55.944156Z"
    }
   },
   "outputs": [],
   "source": [
    "X = scaled_df.drop(columns=['price'])\n",
    "vif = [variance_inflation_factor(X.values, i) for i in range(X.shape[1])]\n",
    "list(zip(X.columns, vif))"
   ]
  },
  {
   "cell_type": "code",
   "execution_count": null,
   "metadata": {
    "ExecuteTime": {
     "end_time": "2020-09-17T22:10:57.779961Z",
     "start_time": "2020-09-17T22:10:56.061767Z"
    }
   },
   "outputs": [],
   "source": [
    "plt.figure(figsize=(10,10))\n",
    "sns.heatmap(scaled_df.corr(), annot=True);"
   ]
  },
  {
   "cell_type": "code",
   "execution_count": null,
   "metadata": {
    "ExecuteTime": {
     "end_time": "2020-09-17T22:10:58.394356Z",
     "start_time": "2020-09-17T22:10:57.785607Z"
    }
   },
   "outputs": [],
   "source": [
    "from statsmodels.stats.diagnostic import het_breuschpagan\n",
    "from statsmodels.stats.diagnostic import het_white\n",
    "\n",
    "white_test = het_white(resid, model4.model.exog)\n",
    "bp_test = het_breuschpagan(resid, model4.model.exog)\n",
    "\n",
    "labels = ['LM Statistic', 'LM-Test p-value', 'F-Statistic', 'F-Test p-value']\n",
    "print(dict(zip(labels, bp_test)))\n",
    "print(dict(zip(labels, white_test)))"
   ]
  },
  {
   "cell_type": "code",
   "execution_count": null,
   "metadata": {
    "ExecuteTime": {
     "end_time": "2020-09-17T22:11:26.387315Z",
     "start_time": "2020-09-17T22:10:58.403108Z"
    }
   },
   "outputs": [],
   "source": [
    "for x in predictors_scaled.columns:\n",
    "    fig = plt.figure(figsize=(10,8))\n",
    "    fig = sm.graphics.plot_regress_exog(model4, x, fig=fig)"
   ]
  },
  {
   "cell_type": "code",
   "execution_count": null,
   "metadata": {
    "ExecuteTime": {
     "end_time": "2020-09-17T22:11:26.566246Z",
     "start_time": "2020-09-17T22:11:26.390557Z"
    }
   },
   "outputs": [],
   "source": [
    "from sklearn.model_selection import train_test_split\n",
    "from sklearn.metrics import mean_squared_error\n",
    "\n",
    "linreg = LinearRegression()\n",
    "X = scaled_df.drop(columns=['price'])\n",
    "y  = scaled_df['price']\n",
    "X_train, X_test, y_train, y_test = train_test_split(X, y, test_size=0.3, random_state=123)\n",
    "linreg.fit(X_train, y_train)\n",
    "y_hat_train = linreg.predict(X_train)\n",
    "y_hat_test = linreg.predict(X_test)\n",
    "\n",
    "print(mean_squared_error(y_train, y_hat_train))\n",
    "print(mean_squared_error(y_test, y_hat_test))\n"
   ]
  },
  {
   "cell_type": "code",
   "execution_count": null,
   "metadata": {
    "ExecuteTime": {
     "end_time": "2020-09-17T22:11:27.253685Z",
     "start_time": "2020-09-17T22:11:26.576601Z"
    }
   },
   "outputs": [],
   "source": [
    "from sklearn.model_selection import cross_val_score\n",
    "cv_10_results = np.mean(cross_val_score(linreg, X, y, cv=10, scoring='neg_mean_squared_error'))\n",
    "cv_20_results = np.mean(cross_val_score(linreg, X, y, cv=20, scoring='neg_mean_squared_error'))"
   ]
  },
  {
   "cell_type": "code",
   "execution_count": null,
   "metadata": {
    "ExecuteTime": {
     "end_time": "2020-09-17T22:11:27.265900Z",
     "start_time": "2020-09-17T22:11:27.257479Z"
    }
   },
   "outputs": [],
   "source": [
    "print(cv_10_results)\n",
    "print(cv_20_results)"
   ]
  },
  {
   "cell_type": "code",
   "execution_count": null,
   "metadata": {
    "ExecuteTime": {
     "end_time": "2020-09-17T22:11:27.282451Z",
     "start_time": "2020-09-17T22:11:27.271445Z"
    }
   },
   "outputs": [],
   "source": [
    "from sklearn.metrics import mean_squared_error, r2_score"
   ]
  },
  {
   "cell_type": "code",
   "execution_count": null,
   "metadata": {
    "ExecuteTime": {
     "end_time": "2020-09-17T22:11:27.318423Z",
     "start_time": "2020-09-17T22:11:27.293300Z"
    }
   },
   "outputs": [],
   "source": [
    "print(mean_squared_error(y, linreg.predict(X)))\n",
    "print(r2_score(y, linreg.predict(X)))"
   ]
  },
  {
   "cell_type": "code",
   "execution_count": null,
   "metadata": {
    "ExecuteTime": {
     "end_time": "2020-09-17T22:13:13.662387Z",
     "start_time": "2020-09-17T22:12:58.522316Z"
    }
   },
   "outputs": [],
   "source": [
    "from sklearn.preprocessing import PolynomialFeatures\n",
    "from sklearn.linear_model import LinearRegression\n",
    "from sklearn.metrics import r2_score\n",
    "\n",
    "\n",
    "# We'll fit 3 different polynomial regression models from degree 2 to degree 4\n",
    "for index, degree in enumerate([2, 3, 4, 5]):\n",
    "    \n",
    "    # Instantiate PolynomialFeatures\n",
    "    poly = PolynomialFeatures(degree)\n",
    "    \n",
    "    # Fit and transform X_train\n",
    "    X_poly_train = poly.fit_transform(X_train)\n",
    "    \n",
    "    # Instantiate and fit a linear regression model to the polynomial transformed train features\n",
    "    reg_poly = LinearRegression().fit(X_poly_train, y_train)\n",
    "    \n",
    "    # Transform the test data into polynomial features\n",
    "    X_poly_test = poly.transform(X_test)\n",
    "    \n",
    "    # Get predicted values for transformed polynomial test data  \n",
    "    y_pred = reg_poly.predict(X_poly_test)\n",
    "    \n",
    "    # Evaluate model performance on test data\n",
    "    print(\"degree %d\" % degree, r2_score(y_test, y_pred))\n",
    "    print(\"degree %d\" % degree, mean_squared_error(y_test, y_pred))\n",
    "    \n",
    "    # Transform the full data\n",
    "    X_poly = poly.transform(X)\n",
    "    \n",
    "    # Now, we want to see what the model predicts for the entire data  \n",
    "    y_poly = reg_poly.predict(X_poly)\n",
    "    \n",
    "    # Create plot of predicted values\n",
    "    #plt.plot(X, y_poly, color = colors[index], linewidth=2, label='degree %d' % degree)\n",
    "    #plt.legend(loc='lower left')\n"
   ]
  },
  {
   "cell_type": "code",
   "execution_count": null,
   "metadata": {
    "ExecuteTime": {
     "end_time": "2020-09-17T22:37:29.150385Z",
     "start_time": "2020-09-17T22:37:29.033973Z"
    }
   },
   "outputs": [],
   "source": [
    "poly2 = PolynomialFeatures(2)\n",
    "X_degree2 = poly2.fit_transform(X)\n",
    "reg_poly2 = LinearRegression().fit(X_degree2, y)\n",
    "\n",
    "from sklearn.model_selection import cross_val_score\n",
    "\n",
    "cv_5_results  = np.mean(cross_val_score(reg_poly2, X, y, cv=5,  scoring='neg_mean_squared_error'))\n",
    "\n"
   ]
  },
  {
   "cell_type": "code",
   "execution_count": null,
   "metadata": {
    "ExecuteTime": {
     "end_time": "2020-09-17T22:37:30.951790Z",
     "start_time": "2020-09-17T22:37:30.939524Z"
    }
   },
   "outputs": [],
   "source": [
    "cv_5_results.mean()"
   ]
  },
  {
   "cell_type": "code",
   "execution_count": null,
   "metadata": {
    "ExecuteTime": {
     "end_time": "2020-09-17T22:38:27.468601Z",
     "start_time": "2020-09-17T22:38:24.495278Z"
    }
   },
   "outputs": [],
   "source": [
    "poly4 = PolynomialFeatures(4)\n",
    "X_degree4 = poly4.fit_transform(X)\n",
    "reg_poly4 = LinearRegression().fit(X_degree4, y)\n",
    "\n",
    "from sklearn.model_selection import cross_val_score\n",
    "\n",
    "cv_5_results2  = np.mean(cross_val_score(reg_poly4, X, y, cv=5,  scoring='neg_mean_squared_error'))\n",
    "cv_5_results2.mean()"
   ]
  },
  {
   "cell_type": "code",
   "execution_count": null,
   "metadata": {
    "ExecuteTime": {
     "end_time": "2020-09-17T22:41:09.115243Z",
     "start_time": "2020-09-17T22:39:10.456658Z"
    }
   },
   "outputs": [],
   "source": [
    "poly6 = PolynomialFeatures(6)\n",
    "X_degree6 = poly6.fit_transform(X)\n",
    "reg_poly6 = LinearRegression().fit(X_degree6, y)\n",
    "\n",
    "from sklearn.model_selection import cross_val_score\n",
    "\n",
    "cv_5_results3  = np.mean(cross_val_score(reg_poly6, X, y, cv=5,  scoring='neg_mean_squared_error'))\n",
    "cv_5_results3.mean()"
   ]
  },
  {
   "cell_type": "markdown",
   "metadata": {},
   "source": [
    "#### Are certain areas more expensive ?"
   ]
  },
  {
   "cell_type": "code",
   "execution_count": null,
   "metadata": {},
   "outputs": [],
   "source": [
    "df_question1['price_per_sqft'] =df_question1[\"price\"]/df_question1[\"sqft_above\"]\n",
    " # arrange price/sqft, remove outliers and form bins of size 100\n",
    "bins= np.arange(np.quantile(df_question1.price_per_sqft, .015) , np.quantile(df_question1.price_per_sqft, 0.9985), step=100)\n",
    "df_question1['price_per_sqft_range'] = pd.cut(df_question1['price_per_sqft'],bins) #Segment and sort price/sqft into bins \n",
    "df_out = df_question1.loc[(df_question1['price_per_sqft'] > 119) & (df_question1['price_per_sqft'] < 500)]\n",
    "plt.figure(figsize=(20,10))\n",
    "sns.scatterplot(data=df_question1,x=\"long\", y=\"lat\", hue= 'price_per_sqft_range')\n",
    "plt.title('Price per Sqft')\n",
    "plt.show()\n"
   ]
  },
  {
   "cell_type": "markdown",
   "metadata": {},
   "source": [
    "#### Looking at price per sqft we can see The central regios is the most expensive , followed by the north and north west .South is the Cheapest"
   ]
  },
  {
   "cell_type": "markdown",
   "metadata": {},
   "source": [
    "#### Q1:Do houses tend to have more sqft of living in certain parts ?"
   ]
  },
  {
   "cell_type": "code",
   "execution_count": null,
   "metadata": {},
   "outputs": [],
   "source": [
    "df_out2 = df_question1.loc[(df_question1['sqft_above'] > 180) & (df_question1['sqft_above'] < 3240)]\n",
    "# sns.scatterplot(data=df_question1,x=\"long\", y=\"lat\", hue= 'sqft_living_range')\n",
    "plt.figure(figsize=(20,10))\n",
    "plt.scatter(df_out2['long'], df_out2['lat'], c=df_out2['sqft_above'],s=1)\n",
    "plt.colorbar().set_label('Sqft', fontsize=14)\n",
    "plt.title('Sqft')\n",
    "plt.show()\n"
   ]
  },
  {
   "cell_type": "markdown",
   "metadata": {},
   "source": [
    "#### We can see houses tend to be bigger in the northwest and smaller in the east .  "
   ]
  }
 ],
 "metadata": {
  "kernelspec": {
   "display_name": "learn-env",
   "language": "python",
   "name": "learn-env"
  },
  "language_info": {
   "codemirror_mode": {
    "name": "ipython",
    "version": 3
   },
   "file_extension": ".py",
   "mimetype": "text/x-python",
   "name": "python",
   "nbconvert_exporter": "python",
   "pygments_lexer": "ipython3",
   "version": "3.6.9"
  },
  "toc": {
   "base_numbering": 1,
   "nav_menu": {},
   "number_sections": true,
   "sideBar": true,
   "skip_h1_title": false,
   "title_cell": "Table of Contents",
   "title_sidebar": "Contents",
   "toc_cell": false,
   "toc_position": {},
   "toc_section_display": true,
   "toc_window_display": false
  },
  "varInspector": {
   "cols": {
    "lenName": 16,
    "lenType": 16,
    "lenVar": 40
   },
   "kernels_config": {
    "python": {
     "delete_cmd_postfix": "",
     "delete_cmd_prefix": "del ",
     "library": "var_list.py",
     "varRefreshCmd": "print(var_dic_list())"
    },
    "r": {
     "delete_cmd_postfix": ") ",
     "delete_cmd_prefix": "rm(",
     "library": "var_list.r",
     "varRefreshCmd": "cat(var_dic_list()) "
    }
   },
   "types_to_exclude": [
    "module",
    "function",
    "builtin_function_or_method",
    "instance",
    "_Feature"
   ],
   "window_display": false
  }
 },
 "nbformat": 4,
 "nbformat_minor": 2
}
